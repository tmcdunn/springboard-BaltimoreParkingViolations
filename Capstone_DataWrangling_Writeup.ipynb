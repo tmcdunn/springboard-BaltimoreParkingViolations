{
 "cells": [
  {
   "cell_type": "markdown",
   "metadata": {},
   "source": [
    "# Capstone Data Wrangling\n",
    "#### Springboard Data Science Career Track\n",
    "##### Tamara Monge"
   ]
  },
  {
   "cell_type": "markdown",
   "metadata": {},
   "source": [
    "### (A) Data Cleaning Performed"
   ]
  },
  {
   "cell_type": "code",
   "execution_count": 1,
   "metadata": {},
   "outputs": [
    {
     "name": "stderr",
     "output_type": "stream",
     "text": [
      "/Users/tami/anaconda/lib/python3.6/site-packages/IPython/core/interactiveshell.py:2717: DtypeWarning: Columns (2) have mixed types. Specify dtype option on import or set low_memory=False.\n",
      "  interactivity=interactivity, compiler=compiler, result=result)\n"
     ]
    },
    {
     "name": "stdout",
     "output_type": "stream",
     "text": [
      "<class 'pandas.core.frame.DataFrame'>\n",
      "RangeIndex: 1345053 entries, 0 to 1345052\n",
      "Data columns (total 21 columns):\n",
      "Citation           1345053 non-null int64\n",
      "Tag                1344837 non-null object\n",
      "ExpMM              1300960 non-null object\n",
      "ExpYY              1345047 non-null float64\n",
      "State              1345053 non-null object\n",
      "Make               1343712 non-null object\n",
      "Address            1345051 non-null object\n",
      "ViolCode           1344668 non-null float64\n",
      "Description        1345053 non-null object\n",
      "ViolFine           1344668 non-null object\n",
      "ViolDate           1340590 non-null object\n",
      "Balance            1345053 non-null object\n",
      "PenaltyDate        0 non-null float64\n",
      "OpenFine           1344668 non-null object\n",
      "OpenPenalty        1344668 non-null object\n",
      "NoticeDate         602001 non-null object\n",
      "ImportDate         1345053 non-null object\n",
      "Neighborhood       206670 non-null object\n",
      "PoliceDistrict     206670 non-null object\n",
      "CouncilDistrict    206691 non-null float64\n",
      "Location           1323450 non-null object\n",
      "dtypes: float64(4), int64(1), object(16)\n",
      "memory usage: 215.5+ MB\n"
     ]
    }
   ],
   "source": [
    "import pandas as pd\n",
    "from datetime import datetime\n",
    "df = pd.read_csv ('Documents/Data Science Course/Capstone1/Parking_Citations.csv')\n",
    "df.info()"
   ]
  },
  {
   "cell_type": "markdown",
   "metadata": {},
   "source": [
    "As shown above, the initial DataFrame was composed of 21 columns: 16 object Series (Tag, ExpMM, State, Make, Address, Description, ViolFine, ViolDate, Balance, OpenFine, OpenPenalty, NoticeDate, ImportDate, Neighborhood, PoliceDistrict, Location) and 4 float64 Series (ExpYY, ViolCode, PenaltyDate, CouncilDistrict) and 1 int64 Series (Citation). \n",
    "\n",
    "\n",
    "Four of the columns (ViolFine, Balance, OpenFine, OpenPenalty) contained financial data in string format and needed to be converted to floats. This process required 3 cleaning steps. First, null values (non-strings) were removed. Second, a lambda function was applied that trimmed the '$'. Third, the values were converted to floats:"
   ]
  },
  {
   "cell_type": "code",
   "execution_count": null,
   "metadata": {
    "collapsed": true
   },
   "outputs": [],
   "source": [
    "df.ViolFine = df.ViolFine[df.ViolFine.apply(type) == str].apply(lambda x: x[1:]).astype(float)   "
   ]
  },
  {
   "cell_type": "markdown",
   "metadata": {},
   "source": [
    "One of the columns (ExpMM) contained string information in mixed formats (e.g., '001', '01', '1.0', and 'JAN' all corresponded to the month of January). These data needed to be cleaned to a single format. This process required the creation of dictionaries which I then used to map the undesired formats to the desired format:  "
   ]
  },
  {
   "cell_type": "code",
   "execution_count": null,
   "metadata": {},
   "outputs": [],
   "source": [
    "dict1 = {'01':'JAN', '02':'FEB', '03':'MAR', '04':'APR', '05':'MAY', '06':'JUN', '07':'JUL', '08':'AUG', '09':'SEP', '10':'OCT', '11':'NOV', '12':'DEC', '00':'', 'PE':''}\n",
    "df.ExpMM.replace(dict1, inplace=True)"
   ]
  },
  {
   "cell_type": "markdown",
   "metadata": {},
   "source": [
    "One of the columns (ExpYY) contained 2-digit year information and required two cleaning steps. First, it needed to be converted to a string and second, it needed to have the century information pre-pended:"
   ]
  },
  {
   "cell_type": "code",
   "execution_count": null,
   "metadata": {},
   "outputs": [],
   "source": [
    "df.ExpYY = df.ExpYY[df.ExpYY.notnull()].apply(lambda x: int(x)).astype(str)\n",
    "df.ExpYY = '20' + df.ExpYY"
   ]
  },
  {
   "cell_type": "markdown",
   "metadata": {},
   "source": [
    "One of the columns (Make) contained data in string format, with varying cases and varying number of characters representing the same category (e.g., 'Hon' and 'HONDA'). This string required two cleaning steps. First, the cases needed to be standardized. Second the character length needed to be standardized:"
   ]
  },
  {
   "cell_type": "code",
   "execution_count": null,
   "metadata": {
    "collapsed": true
   },
   "outputs": [],
   "source": [
    "df.Make = df.Make.str.upper()\n",
    "df.Make = df.Make[df.Make.apply(type) == str].apply(lambda x: x[:3]) "
   ]
  },
  {
   "cell_type": "markdown",
   "metadata": {},
   "source": [
    "Two of the columns (State, PoliceDistrict) contained data in string format with varying cases. These strings only required one cleaning step: case standardization:"
   ]
  },
  {
   "cell_type": "code",
   "execution_count": null,
   "metadata": {
    "collapsed": true
   },
   "outputs": [],
   "source": [
    "df.State = df.State.str.upper()"
   ]
  },
  {
   "cell_type": "markdown",
   "metadata": {},
   "source": [
    "One of the columns (CouncilDistrict) contained float64 information that needed to be treated as strings for the purposes of calculating descriptive statistics and thus were converted to strings:"
   ]
  },
  {
   "cell_type": "code",
   "execution_count": null,
   "metadata": {
    "collapsed": true
   },
   "outputs": [],
   "source": [
    "df.CouncilDistrict = df.CouncilDistrict[df.CouncilDistrict.notnull()].astype(str)     "
   ]
  },
  {
   "cell_type": "markdown",
   "metadata": {},
   "source": [
    "One of the columns (NoticeDate) contained data in string format and needed to be converted to timestamp/datetime objects:"
   ]
  },
  {
   "cell_type": "code",
   "execution_count": null,
   "metadata": {},
   "outputs": [],
   "source": [
    "df.NoticeDate = df.NoticeDate[pd.notnull(df.NoticeDate)].apply(lambda x: datetime.strptime(x, '%m/%d/%Y'))"
   ]
  },
  {
   "cell_type": "markdown",
   "metadata": {},
   "source": [
    "One of the columns (ViolDate) contained data in string format that needed to be converted to a datetimeindex. This required 4 cleaning steps. First, the Series was converted to timestamp objects. Second the index of the DataFrame was set to the Series. Third, the year, month, and hour of the timestamp objects were extracted and saved as 3 new Series within the DataFrame. Fourth, the redundant Series was dropped:"
   ]
  },
  {
   "cell_type": "code",
   "execution_count": null,
   "metadata": {},
   "outputs": [],
   "source": [
    "df.ViolDate = df.ViolDate[pd.notnull(df.ViolDate)].apply(lambda x: datetime.strptime(x, '%m/%d/%Y %I:%M:%S %p'))\n",
    "df.ViolYear = df.ViolDate[pd.notnull(df.ViolDate)].dt.year.astype(int)\n",
    "df.index = df.ViolDate\n",
    "df.drop('ViolDate', axis=1)"
   ]
  },
  {
   "cell_type": "markdown",
   "metadata": {},
   "source": [
    "One of the columns (Location) housed multiple pieces of information in a single string (e.g., '6000 CHINQUAPIN PKWY\\nBaltimore, MD\\n(39.365093, -76.59764).' This required two cleaning steps: splitting the string and extracting the latitude and longitude components into new columns."
   ]
  },
  {
   "cell_type": "code",
   "execution_count": null,
   "metadata": {},
   "outputs": [],
   "source": [
    "df.Lat = float(df.Location.split('\\n')[2].split('(')[1].split(',')[0])\n",
    "df.Lon = float(df.Location.split('\\n')[2].split('(')[1].split(',')[1].split(')')[0])"
   ]
  },
  {
   "cell_type": "markdown",
   "metadata": {},
   "source": [
    "Two of the columns (PenaltyDate, ImportDate) contained irrelevant and/or all null data and were dropped:"
   ]
  },
  {
   "cell_type": "code",
   "execution_count": null,
   "metadata": {
    "collapsed": true
   },
   "outputs": [],
   "source": [
    "df.drop('PenaltyDate', axis=1, inplace=True)"
   ]
  },
  {
   "cell_type": "markdown",
   "metadata": {},
   "source": [
    "Five of the columns (Citation, Tag, Address, Description, Neighborhood) required no cleaning."
   ]
  },
  {
   "cell_type": "markdown",
   "metadata": {},
   "source": [
    "### (B) Handling Missing Data"
   ]
  },
  {
   "cell_type": "code",
   "execution_count": 2,
   "metadata": {},
   "outputs": [
    {
     "data": {
      "text/plain": [
       "Citation           100.000000\n",
       "Tag                 99.983941\n",
       "ExpMM               96.721839\n",
       "ExpYY               99.999554\n",
       "State              100.000000\n",
       "Make                99.900301\n",
       "Address             99.999851\n",
       "ViolCode            99.971377\n",
       "Description        100.000000\n",
       "ViolFine            99.971377\n",
       "ViolDate            99.668192\n",
       "Balance            100.000000\n",
       "PenaltyDate          0.000000\n",
       "OpenFine            99.971377\n",
       "OpenPenalty         99.971377\n",
       "NoticeDate          44.756675\n",
       "ImportDate         100.000000\n",
       "Neighborhood        15.365194\n",
       "PoliceDistrict      15.365194\n",
       "CouncilDistrict     15.366755\n",
       "Location            98.393892\n",
       "dtype: float64"
      ]
     },
     "execution_count": 2,
     "metadata": {},
     "output_type": "execute_result"
    }
   ],
   "source": [
    "df.count()/df.Citation.count()*100"
   ]
  },
  {
   "cell_type": "markdown",
   "metadata": {},
   "source": [
    "Two columns (PenaltyDate, NoticeDate) were dropped. \n",
    "\n",
    "\n",
    "15 of the remaining 19 columns had fewer than 5% of data missing. For these columns, I chose to simply neglect the missing values. \n",
    "\n",
    "The remaining columns (NoticeDate, Neighborhood, PoliceDistrict, and CouncilDistrict) are secondary to the main questions of this study, and very well may go unused. If I do decide to use the, I will need to determine how to handle their missing values. "
   ]
  }
 ],
 "metadata": {
  "kernelspec": {
   "display_name": "Python 3",
   "language": "python",
   "name": "python3"
  },
  "language_info": {
   "codemirror_mode": {
    "name": "ipython",
    "version": 3
   },
   "file_extension": ".py",
   "mimetype": "text/x-python",
   "name": "python",
   "nbconvert_exporter": "python",
   "pygments_lexer": "ipython3",
   "version": "3.6.1"
  }
 },
 "nbformat": 4,
 "nbformat_minor": 2
}
