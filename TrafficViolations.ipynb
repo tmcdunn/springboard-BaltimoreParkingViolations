{
 "cells": [
  {
   "cell_type": "markdown",
   "metadata": {},
   "source": [
    "# Baltimore Traffic Violations\n",
    "Springboard Data Science Career Track\n",
    "\n",
    "Capstone Project 1\n",
    "\n",
    "Tamara Monge\n"
   ]
  },
  {
   "cell_type": "code",
   "execution_count": 1,
   "metadata": {
    "collapsed": true
   },
   "outputs": [],
   "source": [
    "# Import libraries\n",
    "import pandas as pd\n",
    "import numpy as np\n",
    "import matplotlib.pyplot as plt\n",
    "from datetime import datetime\n",
    "import seaborn as sns\n"
   ]
  },
  {
   "cell_type": "code",
   "execution_count": 2,
   "metadata": {},
   "outputs": [
    {
     "name": "stderr",
     "output_type": "stream",
     "text": [
      "/Users/tami/anaconda/lib/python3.6/site-packages/IPython/core/interactiveshell.py:2717: DtypeWarning: Columns (2) have mixed types. Specify dtype option on import or set low_memory=False.\n",
      "  interactivity=interactivity, compiler=compiler, result=result)\n"
     ]
    }
   ],
   "source": [
    "# Import the dataset\n",
    "df = pd.read_csv ('Documents/Data Science Course/Capstone1/Parking_Citations.csv')"
   ]
  },
  {
   "cell_type": "code",
   "execution_count": 3,
   "metadata": {},
   "outputs": [
    {
     "name": "stdout",
     "output_type": "stream",
     "text": [
      "<class 'pandas.core.frame.DataFrame'>\n",
      "RangeIndex: 1345053 entries, 0 to 1345052\n",
      "Data columns (total 21 columns):\n",
      "Citation           1345053 non-null int64\n",
      "Tag                1344837 non-null object\n",
      "ExpMM              1300960 non-null object\n",
      "ExpYY              1345047 non-null float64\n",
      "State              1345053 non-null object\n",
      "Make               1343712 non-null object\n",
      "Address            1345051 non-null object\n",
      "ViolCode           1344668 non-null float64\n",
      "Description        1345053 non-null object\n",
      "ViolFine           1344668 non-null object\n",
      "ViolDate           1340590 non-null object\n",
      "Balance            1345053 non-null object\n",
      "PenaltyDate        0 non-null float64\n",
      "OpenFine           1344668 non-null object\n",
      "OpenPenalty        1344668 non-null object\n",
      "NoticeDate         602001 non-null object\n",
      "ImportDate         1345053 non-null object\n",
      "Neighborhood       206670 non-null object\n",
      "PoliceDistrict     206670 non-null object\n",
      "CouncilDistrict    206691 non-null float64\n",
      "Location           1323450 non-null object\n",
      "dtypes: float64(4), int64(1), object(16)\n",
      "memory usage: 215.5+ MB\n"
     ]
    }
   ],
   "source": [
    "# Examine the dataframe info\n",
    "df.info()"
   ]
  },
  {
   "cell_type": "code",
   "execution_count": 4,
   "metadata": {},
   "outputs": [
    {
     "data": {
      "text/html": [
       "<div>\n",
       "<style>\n",
       "    .dataframe thead tr:only-child th {\n",
       "        text-align: right;\n",
       "    }\n",
       "\n",
       "    .dataframe thead th {\n",
       "        text-align: left;\n",
       "    }\n",
       "\n",
       "    .dataframe tbody tr th {\n",
       "        vertical-align: top;\n",
       "    }\n",
       "</style>\n",
       "<table border=\"1\" class=\"dataframe\">\n",
       "  <thead>\n",
       "    <tr style=\"text-align: right;\">\n",
       "      <th></th>\n",
       "      <th>Citation</th>\n",
       "      <th>Tag</th>\n",
       "      <th>ExpMM</th>\n",
       "      <th>ExpYY</th>\n",
       "      <th>State</th>\n",
       "      <th>Make</th>\n",
       "      <th>Address</th>\n",
       "      <th>ViolCode</th>\n",
       "      <th>Description</th>\n",
       "      <th>ViolFine</th>\n",
       "      <th>...</th>\n",
       "      <th>Balance</th>\n",
       "      <th>PenaltyDate</th>\n",
       "      <th>OpenFine</th>\n",
       "      <th>OpenPenalty</th>\n",
       "      <th>NoticeDate</th>\n",
       "      <th>ImportDate</th>\n",
       "      <th>Neighborhood</th>\n",
       "      <th>PoliceDistrict</th>\n",
       "      <th>CouncilDistrict</th>\n",
       "      <th>Location</th>\n",
       "    </tr>\n",
       "  </thead>\n",
       "  <tbody>\n",
       "    <tr>\n",
       "      <th>0</th>\n",
       "      <td>79764791</td>\n",
       "      <td>9RX368</td>\n",
       "      <td>00</td>\n",
       "      <td>11.0</td>\n",
       "      <td>WV</td>\n",
       "      <td>INFIN</td>\n",
       "      <td>6000 CHINQUAPIN PKWY</td>\n",
       "      <td>19.0</td>\n",
       "      <td>Exceeding 48 Hours</td>\n",
       "      <td>$32.00</td>\n",
       "      <td>...</td>\n",
       "      <td>$332.00</td>\n",
       "      <td>NaN</td>\n",
       "      <td>$32.00</td>\n",
       "      <td>$300.00</td>\n",
       "      <td>10/31/2011</td>\n",
       "      <td>05/09/2013 04:03:00 AM +0000</td>\n",
       "      <td>NaN</td>\n",
       "      <td>NaN</td>\n",
       "      <td>NaN</td>\n",
       "      <td>6000 CHINQUAPIN PKWY\\nBaltimore, MD\\n(39.36509...</td>\n",
       "    </tr>\n",
       "    <tr>\n",
       "      <th>1</th>\n",
       "      <td>79799128</td>\n",
       "      <td>00T058</td>\n",
       "      <td>06</td>\n",
       "      <td>11.0</td>\n",
       "      <td>MD</td>\n",
       "      <td>GMC</td>\n",
       "      <td>O/S 3600 GLENGYLE AVENUE</td>\n",
       "      <td>22.0</td>\n",
       "      <td>Expired Tags</td>\n",
       "      <td>$32.00</td>\n",
       "      <td>...</td>\n",
       "      <td>$332.00</td>\n",
       "      <td>NaN</td>\n",
       "      <td>$32.00</td>\n",
       "      <td>$300.00</td>\n",
       "      <td>01/04/2012</td>\n",
       "      <td>08/09/2013 04:03:00 AM +0000</td>\n",
       "      <td>NaN</td>\n",
       "      <td>NaN</td>\n",
       "      <td>NaN</td>\n",
       "      <td>3600 GLENGYLE AVENUE\\nBaltimore, MD\\n(39.36725...</td>\n",
       "    </tr>\n",
       "    <tr>\n",
       "      <th>2</th>\n",
       "      <td>79741567</td>\n",
       "      <td>6926L6</td>\n",
       "      <td>03</td>\n",
       "      <td>13.0</td>\n",
       "      <td>MD</td>\n",
       "      <td>FORD</td>\n",
       "      <td>1000 VINE ST</td>\n",
       "      <td>18.0</td>\n",
       "      <td>All Other Parking Meter Violations</td>\n",
       "      <td>$32.00</td>\n",
       "      <td>...</td>\n",
       "      <td>$357.00</td>\n",
       "      <td>NaN</td>\n",
       "      <td>$32.00</td>\n",
       "      <td>$325.00</td>\n",
       "      <td>10/19/2011</td>\n",
       "      <td>05/09/2013 04:03:00 AM +0000</td>\n",
       "      <td>NaN</td>\n",
       "      <td>NaN</td>\n",
       "      <td>NaN</td>\n",
       "      <td>1000 VINE ST\\nBaltimore, MD\\n(39.290402, -76.6...</td>\n",
       "    </tr>\n",
       "    <tr>\n",
       "      <th>3</th>\n",
       "      <td>79751210</td>\n",
       "      <td>1FZL87</td>\n",
       "      <td>05</td>\n",
       "      <td>10.0</td>\n",
       "      <td>MD</td>\n",
       "      <td>HOND</td>\n",
       "      <td>4200 CONNECTICUT AVE</td>\n",
       "      <td>22.0</td>\n",
       "      <td>Expired Tags</td>\n",
       "      <td>$32.00</td>\n",
       "      <td>...</td>\n",
       "      <td>$332.00</td>\n",
       "      <td>NaN</td>\n",
       "      <td>$32.00</td>\n",
       "      <td>$300.00</td>\n",
       "      <td>08/31/2011</td>\n",
       "      <td>05/07/2013 10:41:00 AM +0000</td>\n",
       "      <td>Irvington</td>\n",
       "      <td>Southwestern</td>\n",
       "      <td>8.0</td>\n",
       "      <td>4200 CONNECTICUT AVE\\nBaltimore, MD\\n(39.28429...</td>\n",
       "    </tr>\n",
       "    <tr>\n",
       "      <th>4</th>\n",
       "      <td>79751160</td>\n",
       "      <td>TW2578</td>\n",
       "      <td>SEP</td>\n",
       "      <td>10.0</td>\n",
       "      <td>VA</td>\n",
       "      <td>MERC</td>\n",
       "      <td>4640 COLEHERNE RD</td>\n",
       "      <td>22.0</td>\n",
       "      <td>Expired Tags</td>\n",
       "      <td>$32.00</td>\n",
       "      <td>...</td>\n",
       "      <td>$332.00</td>\n",
       "      <td>NaN</td>\n",
       "      <td>$32.00</td>\n",
       "      <td>$300.00</td>\n",
       "      <td>12/29/2011</td>\n",
       "      <td>07/09/2013 04:02:00 AM +0000</td>\n",
       "      <td>NaN</td>\n",
       "      <td>NaN</td>\n",
       "      <td>NaN</td>\n",
       "      <td>4640 COLEHERNE RD\\nBaltimore, MD\\n(39.294882, ...</td>\n",
       "    </tr>\n",
       "  </tbody>\n",
       "</table>\n",
       "<p>5 rows × 21 columns</p>\n",
       "</div>"
      ],
      "text/plain": [
       "   Citation     Tag ExpMM  ExpYY State   Make                   Address  \\\n",
       "0  79764791  9RX368    00   11.0    WV  INFIN      6000 CHINQUAPIN PKWY   \n",
       "1  79799128  00T058    06   11.0    MD    GMC  O/S 3600 GLENGYLE AVENUE   \n",
       "2  79741567  6926L6    03   13.0    MD   FORD              1000 VINE ST   \n",
       "3  79751210  1FZL87    05   10.0    MD   HOND      4200 CONNECTICUT AVE   \n",
       "4  79751160  TW2578   SEP   10.0    VA   MERC         4640 COLEHERNE RD   \n",
       "\n",
       "   ViolCode                         Description ViolFine  \\\n",
       "0      19.0                  Exceeding 48 Hours   $32.00   \n",
       "1      22.0                        Expired Tags   $32.00   \n",
       "2      18.0  All Other Parking Meter Violations   $32.00   \n",
       "3      22.0                        Expired Tags   $32.00   \n",
       "4      22.0                        Expired Tags   $32.00   \n",
       "\n",
       "                         ...                          Balance PenaltyDate  \\\n",
       "0                        ...                          $332.00         NaN   \n",
       "1                        ...                          $332.00         NaN   \n",
       "2                        ...                          $357.00         NaN   \n",
       "3                        ...                          $332.00         NaN   \n",
       "4                        ...                          $332.00         NaN   \n",
       "\n",
       "   OpenFine OpenPenalty  NoticeDate                    ImportDate  \\\n",
       "0    $32.00     $300.00  10/31/2011  05/09/2013 04:03:00 AM +0000   \n",
       "1    $32.00     $300.00  01/04/2012  08/09/2013 04:03:00 AM +0000   \n",
       "2    $32.00     $325.00  10/19/2011  05/09/2013 04:03:00 AM +0000   \n",
       "3    $32.00     $300.00  08/31/2011  05/07/2013 10:41:00 AM +0000   \n",
       "4    $32.00     $300.00  12/29/2011  07/09/2013 04:02:00 AM +0000   \n",
       "\n",
       "  Neighborhood PoliceDistrict CouncilDistrict  \\\n",
       "0          NaN            NaN             NaN   \n",
       "1          NaN            NaN             NaN   \n",
       "2          NaN            NaN             NaN   \n",
       "3    Irvington   Southwestern             8.0   \n",
       "4          NaN            NaN             NaN   \n",
       "\n",
       "                                            Location  \n",
       "0  6000 CHINQUAPIN PKWY\\nBaltimore, MD\\n(39.36509...  \n",
       "1  3600 GLENGYLE AVENUE\\nBaltimore, MD\\n(39.36725...  \n",
       "2  1000 VINE ST\\nBaltimore, MD\\n(39.290402, -76.6...  \n",
       "3  4200 CONNECTICUT AVE\\nBaltimore, MD\\n(39.28429...  \n",
       "4  4640 COLEHERNE RD\\nBaltimore, MD\\n(39.294882, ...  \n",
       "\n",
       "[5 rows x 21 columns]"
      ]
     },
     "execution_count": 4,
     "metadata": {},
     "output_type": "execute_result"
    }
   ],
   "source": [
    "# Examine the head\n",
    "df.head()"
   ]
  },
  {
   "cell_type": "code",
   "execution_count": 5,
   "metadata": {},
   "outputs": [
    {
     "data": {
      "text/plain": [
       "(1345053, 21)"
      ]
     },
     "execution_count": 5,
     "metadata": {},
     "output_type": "execute_result"
    }
   ],
   "source": [
    "# Examine the shape\n",
    "df.shape"
   ]
  },
  {
   "cell_type": "markdown",
   "metadata": {},
   "source": [
    "# Data Cleaning"
   ]
  },
  {
   "cell_type": "markdown",
   "metadata": {},
   "source": [
    "For initial data cleaning we need to:\n",
    "1. convert data types:\n",
    "     - convert the following series from strings to floats: fine, balance, open_fine, and open_penalty\n",
    "     - convert the following series  to strs, so can later convert to datetime: license_mo (which has some values as letters), license_yr, \n",
    "     - convert the following series from strings to date-time objects: license_mo + license_yr = license_exp, viol_date, notice_date, and import_date\n",
    "     - convert the following series to categorical objects: make, state, code\n",
    "     - convert the following series to either all number codes or all string descriptors: police_district (which has some values as letters) and council_district (which has some values as letters)\n",
    "\n",
    "2. determine column contents:\n",
    "    - the difference between address and location (are they ever different?)\n",
    "    - the difference between date and import_date (are they ever different?)\n",
    "    - are there any non-null values in penalty_date?\n",
    "\n",
    "3. determine whether the contents of description are categorical or if two descriptions of the same crime can vary?\n",
    "\n",
    "4. determine how to handle the null values in each column:"
   ]
  },
  {
   "cell_type": "code",
   "execution_count": 6,
   "metadata": {},
   "outputs": [],
   "source": [
    "# Assign each column to its own series of the appropriate data type, so we can more easily plot and work with the data.\n",
    "# 1.a. floats\n",
    "fine = df['ViolFine'][df['ViolFine'].apply(type) == str].apply(lambda x: x[1:]).astype(float)   \n",
    "balance = df['Balance'][df['Balance'].apply(type) == str].apply(lambda x: x[1:]).astype(float)   \n",
    "open_fine = df['OpenFine'][df['OpenFine'].apply(type) == str].apply(lambda x: x[1:]).astype(float)   \n",
    "open_penalty = df['OpenPenalty'][df['OpenPenalty'].apply(type) == str].apply(lambda x: x[1:]).astype(float)    \n",
    "\n",
    "# 1.b. strs\n",
    "license_yr = df['ExpYY'][df['ExpYY'].notnull()].apply(lambda x: int(x)).astype(str) \n",
    "license_mo = df['ExpMM'][df['ExpMM'].notnull()].astype(str) \n",
    "viol_date = df['ViolDate'] #str  '%m/%d/%Y %I:%M:%S %p'\n",
    "notice_date = df['NoticeDate'] #str  '%m/%d/%Y'\n",
    "import_date = df['ImportDate'] #str  '%m/%d/%Y %I:%M:%S %p +0000'\n",
    "\n",
    "# 1.c  categorical\n",
    "make = df['Make'].astype('category')\n",
    "state = df['State'].astype('category')    \n",
    "code = df['ViolCode'].astype('category')#float   \n",
    "\n",
    "# no change to data type\n",
    "citation = df['Citation'] #int \n",
    "license = df['Tag'] #str   \n",
    "address = df['Address'] #str  \n",
    "description = df['Description'] #str  \n",
    "penalty_date = df['PenaltyDate'] #float  ===> no values\n",
    "neighborhood = df['Neighborhood'] #float   \n",
    "police_district = df['PoliceDistrict'] #float  \n",
    "council_district = df['CouncilDistrict']  #float  \n",
    "location = df['Location'] #str  "
   ]
  },
  {
   "cell_type": "code",
   "execution_count": 7,
   "metadata": {
    "collapsed": true
   },
   "outputs": [],
   "source": [
    "# 1.d. datetime objects \n",
    "# license_exp datetime object\n",
    "license_exp = license_mo + '/20' + license_yr\n",
    "license_exp = datetime.strptime(license_exp[3], '%m/%Y')  # This does not work for the whole series (1) some months are reported as [00, NaN, or SEP], and (2) strptime only works with strings, not series, and cant get comprehension to work\n",
    "#license_exp, tz = pd.to_datetime(license_exp, format = '%m/%Y')\n",
    "# notice_date datetime object\n",
    "notice_date = datetime.strptime(notice_date[0], '%m/%d/%Y') # Again, this does not work for the whole series since strptime only works with strings, not series, and cant get comprehension to work\n",
    "#notice_date = pd.to_datetime(notice_date, '%m/%d/%Y')\n",
    "# import_date datetime object \n",
    "##import_date = datetime.strptime(import_date[0], '%m/%d/%Y %I:%M:%S %p +0000') # Again, this does not work for the whole series since strptime only works with strings, not series, and cant get comprehension to work\n",
    "#import_date = pd.to_datetime(import_date, '%m/%d/%Y %I:%M:%S %p +0000')"
   ]
  },
  {
   "cell_type": "code",
   "execution_count": 8,
   "metadata": {},
   "outputs": [
    {
     "data": {
      "text/plain": [
       "datetime.datetime(2010, 5, 1, 0, 0)"
      ]
     },
     "execution_count": 8,
     "metadata": {},
     "output_type": "execute_result"
    }
   ],
   "source": [
    "license_exp"
   ]
  },
  {
   "cell_type": "code",
   "execution_count": 9,
   "metadata": {
    "collapsed": true
   },
   "outputs": [],
   "source": [
    "# 1.e  map all to number codes or string descriptors...will need to use external datasets in order to determine the mapping \n"
   ]
  },
  {
   "cell_type": "code",
   "execution_count": 10,
   "metadata": {
    "collapsed": true
   },
   "outputs": [],
   "source": [
    "# 2.a determine the difference between address and location"
   ]
  },
  {
   "cell_type": "code",
   "execution_count": 11,
   "metadata": {},
   "outputs": [
    {
     "data": {
      "text/plain": [
       "'09/15/2017 04:02:00 AM +0000'"
      ]
     },
     "execution_count": 11,
     "metadata": {},
     "output_type": "execute_result"
    }
   ],
   "source": [
    "# 2.b determine the difference between viol_date and import_date\n",
    "viol_date[10]\n",
    "import_date[10]"
   ]
  },
  {
   "cell_type": "markdown",
   "metadata": {},
   "source": [
    "viol_date is the date the citation was issued. import_date seems to be an artifact (year is not within the range of the dataset). Thus, from here on out we will use viol_date and ignore import_date"
   ]
  },
  {
   "cell_type": "code",
   "execution_count": 12,
   "metadata": {
    "collapsed": true
   },
   "outputs": [],
   "source": [
    "# 2.c remove column PenaltyDate since it contains only NaNs"
   ]
  },
  {
   "cell_type": "code",
   "execution_count": 13,
   "metadata": {
    "collapsed": true
   },
   "outputs": [],
   "source": [
    "# 3  determine whether description can be treated as categorical"
   ]
  },
  {
   "cell_type": "code",
   "execution_count": 14,
   "metadata": {},
   "outputs": [
    {
     "data": {
      "text/plain": [
       "Citation                 0\n",
       "Tag                    216\n",
       "ExpMM                44093\n",
       "ExpYY                    6\n",
       "State                    0\n",
       "Make                  1341\n",
       "Address                  2\n",
       "ViolCode               385\n",
       "Description              0\n",
       "ViolFine               385\n",
       "ViolDate              4463\n",
       "Balance                  0\n",
       "PenaltyDate        1345053\n",
       "OpenFine               385\n",
       "OpenPenalty            385\n",
       "NoticeDate          743052\n",
       "ImportDate               0\n",
       "Neighborhood       1138383\n",
       "PoliceDistrict     1138383\n",
       "CouncilDistrict    1138362\n",
       "Location             21603\n",
       "dtype: int64"
      ]
     },
     "execution_count": 14,
     "metadata": {},
     "output_type": "execute_result"
    }
   ],
   "source": [
    "# 4.a check for nulls \n",
    "df[:].isnull().sum()"
   ]
  },
  {
   "cell_type": "markdown",
   "metadata": {},
   "source": [
    "The only complete columns are: Citation, State, Description, Balance, and ImportDate"
   ]
  },
  {
   "cell_type": "code",
   "execution_count": 15,
   "metadata": {
    "collapsed": true
   },
   "outputs": [],
   "source": [
    "# 4.b determine how to handle NaNs"
   ]
  },
  {
   "cell_type": "markdown",
   "metadata": {},
   "source": [
    "# Visual & Statistical EDA"
   ]
  },
  {
   "cell_type": "markdown",
   "metadata": {},
   "source": [
    "# Let's begin with the Violation Codes and Descriptions"
   ]
  },
  {
   "cell_type": "code",
   "execution_count": 16,
   "metadata": {},
   "outputs": [
    {
     "name": "stderr",
     "output_type": "stream",
     "text": [
      "/Users/tami/anaconda/lib/python3.6/site-packages/numpy/lib/function_base.py:747: RuntimeWarning: invalid value encountered in greater_equal\n",
      "  keep = (tmp_a >= mn)\n",
      "/Users/tami/anaconda/lib/python3.6/site-packages/numpy/lib/function_base.py:748: RuntimeWarning: invalid value encountered in less_equal\n",
      "  keep &= (tmp_a <= mx)\n"
     ]
    },
    {
     "data": {
      "image/png": "[encoded data removed]",
      "text/plain": [
       "<matplotlib.figure.Figure at 0x11081ad68>"
      ]
     },
     "metadata": {},
     "output_type": "display_data"
    }
   ],
   "source": [
    "fig=plt.figure(figsize=(10, 4))\n",
    "plt.hist(code, range=[1,99], bins=30)\n",
    "plt.title('Violation Code')\n",
    "plt.yscale('log')\n",
    "plt.show()"
   ]
  },
  {
   "cell_type": "code",
   "execution_count": 17,
   "metadata": {},
   "outputs": [
    {
     "data": {
      "text/plain": [
       "30"
      ]
     },
     "execution_count": 17,
     "metadata": {},
     "output_type": "execute_result"
    }
   ],
   "source": [
    "code.value_counts().sort_values(ascending=False).count()"
   ]
  },
  {
   "cell_type": "code",
   "execution_count": 18,
   "metadata": {},
   "outputs": [
    {
     "data": {
      "text/plain": [
       "18.0    367695\n",
       "27.0    154683\n",
       "32.0    132630\n",
       "22.0    122531\n",
       "12.0    117114\n",
       "8.0     108809\n",
       "11.0     83359\n",
       "33.0     49148\n",
       "99.0     47073\n",
       "30.0     32964\n",
       "Name: ViolCode, dtype: int64"
      ]
     },
     "execution_count": 18,
     "metadata": {},
     "output_type": "execute_result"
    }
   ],
   "source": [
    "code.value_counts().sort_values(ascending=False).head(10)"
   ]
  },
  {
   "cell_type": "markdown",
   "metadata": {},
   "source": [
    "- The most common violation code, by more than a factor of 2, is 18 (367,695). \n",
    "- 30 violation codes occurred in the past 2 years.\n",
    "- 7 codes had more than 100,000 occurences in the past 2 years: 18, 27, 32, 22, 12, and 8. Later, we will find the descriptions associated with these codes."
   ]
  },
  {
   "cell_type": "code",
   "execution_count": 19,
   "metadata": {},
   "outputs": [
    {
     "data": {
      "text/plain": [
       "array(['Exceeding 48 Hours', 'Expired Tags',\n",
       "       'All Other Parking Meter Violations',\n",
       "       'All Other Stopping or Parking Violations', 'Red Light Violation',\n",
       "       'Passenger Loading Zone', 'Fixed Speed Camera',\n",
       "       'Obstruct/Impeding Movement of Pedestrian',\n",
       "       'No Stopping/Standing Not Tow-Away Zone',\n",
       "       'No Stopping//Parking Stadium Event Camden', 'Abandonded Vehicle',\n",
       "       'No Stop/Park Handicap', 'No Stop/Park Street Cleaning',\n",
       "       'Mobile Speed Camera', 'Obstruct/Impeding Flow of Traffic',\n",
       "       'Residential Parking Permit Only',\n",
       "       'No Stopping/Standing Tow Away Zone',\n",
       "       'Less Than 15 feet from Fire Hydrant',\n",
       "       'Fire Lane/Handicapped Violation', 'Right on Red',\n",
       "       'In Transit Zone/Stop', 'In Taxicab Stand',\n",
       "       'Blocking Garage or Driveway',\n",
       "       'Commercial Veh/Residence under 20,000 lbs',\n",
       "       'Less 30’ from Intersection',\n",
       "       'No Stopping or No Parking Pimlico Event',\n",
       "       'Commercial Veh/Residence over 20,000 lbs',\n",
       "       'No Stop/Stand/Park Cruising', 'Snow Emergency Route Violation',\n",
       "       'No Stopping/Parking Stadium Event – 33rd'], dtype=object)"
      ]
     },
     "execution_count": 19,
     "metadata": {},
     "output_type": "execute_result"
    }
   ],
   "source": [
    "description[description.notnull()].unique()"
   ]
  },
  {
   "cell_type": "code",
   "execution_count": 20,
   "metadata": {},
   "outputs": [
    {
     "data": {
      "text/plain": [
       "count                                1345053\n",
       "unique                                    30\n",
       "top       All Other Parking Meter Violations\n",
       "freq                                  367802\n",
       "Name: Description, dtype: object"
      ]
     },
     "execution_count": 20,
     "metadata": {},
     "output_type": "execute_result"
    }
   ],
   "source": [
    "description.describe()"
   ]
  },
  {
   "cell_type": "markdown",
   "metadata": {},
   "source": [
    "- There are 30 unique violation descriptions. \n",
    "- The most common violation is \"All Other Parking Meter Violations,\" coming in at 367,802 occurences (~27%)"
   ]
  },
  {
   "cell_type": "markdown",
   "metadata": {},
   "source": [
    "# Now, let's examine the Vehicle Characteristics: make and license state"
   ]
  },
  {
   "cell_type": "code",
   "execution_count": 21,
   "metadata": {
    "scrolled": true
   },
   "outputs": [
    {
     "name": "stdout",
     "output_type": "stream",
     "text": [
      "[INFIN, GMC, FORD, HOND, MERC, ..., VANDU, STRG, BRMR, CROWN, AMC H]\n",
      "Length: 1027\n",
      "Categories (1027, object): [INFIN, GMC, FORD, HOND, ..., STRG, BRMR, CROWN, AMC H]\n"
     ]
    },
    {
     "data": {
      "text/html": [
       "<div>\n",
       "<style>\n",
       "    .dataframe thead tr:only-child th {\n",
       "        text-align: right;\n",
       "    }\n",
       "\n",
       "    .dataframe thead th {\n",
       "        text-align: left;\n",
       "    }\n",
       "\n",
       "    .dataframe tbody tr th {\n",
       "        vertical-align: top;\n",
       "    }\n",
       "</style>\n",
       "<table border=\"1\" class=\"dataframe\">\n",
       "  <thead>\n",
       "    <tr style=\"text-align: right;\">\n",
       "      <th></th>\n",
       "      <th>counts</th>\n",
       "      <th>freqs</th>\n",
       "    </tr>\n",
       "    <tr>\n",
       "      <th>categories</th>\n",
       "      <th></th>\n",
       "      <th></th>\n",
       "    </tr>\n",
       "  </thead>\n",
       "  <tbody>\n",
       "    <tr>\n",
       "      <th>INFIN</th>\n",
       "      <td>1</td>\n",
       "      <td>0.000974</td>\n",
       "    </tr>\n",
       "    <tr>\n",
       "      <th>GMC</th>\n",
       "      <td>1</td>\n",
       "      <td>0.000974</td>\n",
       "    </tr>\n",
       "    <tr>\n",
       "      <th>FORD</th>\n",
       "      <td>1</td>\n",
       "      <td>0.000974</td>\n",
       "    </tr>\n",
       "    <tr>\n",
       "      <th>HOND</th>\n",
       "      <td>1</td>\n",
       "      <td>0.000974</td>\n",
       "    </tr>\n",
       "    <tr>\n",
       "      <th>MERC</th>\n",
       "      <td>1</td>\n",
       "      <td>0.000974</td>\n",
       "    </tr>\n",
       "    <tr>\n",
       "      <th>DETAC</th>\n",
       "      <td>1</td>\n",
       "      <td>0.000974</td>\n",
       "    </tr>\n",
       "    <tr>\n",
       "      <th>DODG</th>\n",
       "      <td>1</td>\n",
       "      <td>0.000974</td>\n",
       "    </tr>\n",
       "    <tr>\n",
       "      <th>ACURA</th>\n",
       "      <td>1</td>\n",
       "      <td>0.000974</td>\n",
       "    </tr>\n",
       "    <tr>\n",
       "      <th>TOYOT</th>\n",
       "      <td>1</td>\n",
       "      <td>0.000974</td>\n",
       "    </tr>\n",
       "    <tr>\n",
       "      <th>HONDA</th>\n",
       "      <td>1</td>\n",
       "      <td>0.000974</td>\n",
       "    </tr>\n",
       "    <tr>\n",
       "      <th>HYUN</th>\n",
       "      <td>1</td>\n",
       "      <td>0.000974</td>\n",
       "    </tr>\n",
       "    <tr>\n",
       "      <th>CHRY</th>\n",
       "      <td>1</td>\n",
       "      <td>0.000974</td>\n",
       "    </tr>\n",
       "    <tr>\n",
       "      <th>CHEVR</th>\n",
       "      <td>1</td>\n",
       "      <td>0.000974</td>\n",
       "    </tr>\n",
       "    <tr>\n",
       "      <th>VOLK</th>\n",
       "      <td>1</td>\n",
       "      <td>0.000974</td>\n",
       "    </tr>\n",
       "    <tr>\n",
       "      <th>BUICK</th>\n",
       "      <td>1</td>\n",
       "      <td>0.000974</td>\n",
       "    </tr>\n",
       "    <tr>\n",
       "      <th>OLDS</th>\n",
       "      <td>1</td>\n",
       "      <td>0.000974</td>\n",
       "    </tr>\n",
       "    <tr>\n",
       "      <th>TOYT</th>\n",
       "      <td>1</td>\n",
       "      <td>0.000974</td>\n",
       "    </tr>\n",
       "    <tr>\n",
       "      <th>MITS</th>\n",
       "      <td>1</td>\n",
       "      <td>0.000974</td>\n",
       "    </tr>\n",
       "    <tr>\n",
       "      <th>ISUZ</th>\n",
       "      <td>1</td>\n",
       "      <td>0.000974</td>\n",
       "    </tr>\n",
       "    <tr>\n",
       "      <th>MAZD</th>\n",
       "      <td>1</td>\n",
       "      <td>0.000974</td>\n",
       "    </tr>\n",
       "    <tr>\n",
       "      <th>VOLKS</th>\n",
       "      <td>1</td>\n",
       "      <td>0.000974</td>\n",
       "    </tr>\n",
       "    <tr>\n",
       "      <th>INFI</th>\n",
       "      <td>1</td>\n",
       "      <td>0.000974</td>\n",
       "    </tr>\n",
       "    <tr>\n",
       "      <th>KIA</th>\n",
       "      <td>1</td>\n",
       "      <td>0.000974</td>\n",
       "    </tr>\n",
       "    <tr>\n",
       "      <th>CHEV</th>\n",
       "      <td>1</td>\n",
       "      <td>0.000974</td>\n",
       "    </tr>\n",
       "    <tr>\n",
       "      <th>DODGE</th>\n",
       "      <td>1</td>\n",
       "      <td>0.000974</td>\n",
       "    </tr>\n",
       "    <tr>\n",
       "      <th>CHRYS</th>\n",
       "      <td>1</td>\n",
       "      <td>0.000974</td>\n",
       "    </tr>\n",
       "    <tr>\n",
       "      <th>JEEP</th>\n",
       "      <td>1</td>\n",
       "      <td>0.000974</td>\n",
       "    </tr>\n",
       "    <tr>\n",
       "      <th>HYUND</th>\n",
       "      <td>1</td>\n",
       "      <td>0.000974</td>\n",
       "    </tr>\n",
       "    <tr>\n",
       "      <th>VOLVO</th>\n",
       "      <td>1</td>\n",
       "      <td>0.000974</td>\n",
       "    </tr>\n",
       "    <tr>\n",
       "      <th>LNDR</th>\n",
       "      <td>1</td>\n",
       "      <td>0.000974</td>\n",
       "    </tr>\n",
       "    <tr>\n",
       "      <th>...</th>\n",
       "      <td>...</td>\n",
       "      <td>...</td>\n",
       "    </tr>\n",
       "    <tr>\n",
       "      <th>HOME</th>\n",
       "      <td>1</td>\n",
       "      <td>0.000974</td>\n",
       "    </tr>\n",
       "    <tr>\n",
       "      <th>MISSI</th>\n",
       "      <td>1</td>\n",
       "      <td>0.000974</td>\n",
       "    </tr>\n",
       "    <tr>\n",
       "      <th>APPAL</th>\n",
       "      <td>1</td>\n",
       "      <td>0.000974</td>\n",
       "    </tr>\n",
       "    <tr>\n",
       "      <th>CAN C</th>\n",
       "      <td>1</td>\n",
       "      <td>0.000974</td>\n",
       "    </tr>\n",
       "    <tr>\n",
       "      <th>FEX</th>\n",
       "      <td>1</td>\n",
       "      <td>0.000974</td>\n",
       "    </tr>\n",
       "    <tr>\n",
       "      <th>VOLKW</th>\n",
       "      <td>1</td>\n",
       "      <td>0.000974</td>\n",
       "    </tr>\n",
       "    <tr>\n",
       "      <th>BMX</th>\n",
       "      <td>1</td>\n",
       "      <td>0.000974</td>\n",
       "    </tr>\n",
       "    <tr>\n",
       "      <th>VERUC</th>\n",
       "      <td>1</td>\n",
       "      <td>0.000974</td>\n",
       "    </tr>\n",
       "    <tr>\n",
       "      <th>CAMR</th>\n",
       "      <td>1</td>\n",
       "      <td>0.000974</td>\n",
       "    </tr>\n",
       "    <tr>\n",
       "      <th>SUPRE</th>\n",
       "      <td>1</td>\n",
       "      <td>0.000974</td>\n",
       "    </tr>\n",
       "    <tr>\n",
       "      <th>ME</th>\n",
       "      <td>1</td>\n",
       "      <td>0.000974</td>\n",
       "    </tr>\n",
       "    <tr>\n",
       "      <th>HALE</th>\n",
       "      <td>1</td>\n",
       "      <td>0.000974</td>\n",
       "    </tr>\n",
       "    <tr>\n",
       "      <th>JEEPS</th>\n",
       "      <td>1</td>\n",
       "      <td>0.000974</td>\n",
       "    </tr>\n",
       "    <tr>\n",
       "      <th>BMW 7</th>\n",
       "      <td>1</td>\n",
       "      <td>0.000974</td>\n",
       "    </tr>\n",
       "    <tr>\n",
       "      <th>19744</th>\n",
       "      <td>1</td>\n",
       "      <td>0.000974</td>\n",
       "    </tr>\n",
       "    <tr>\n",
       "      <th>LINK</th>\n",
       "      <td>1</td>\n",
       "      <td>0.000974</td>\n",
       "    </tr>\n",
       "    <tr>\n",
       "      <th>ABFTR</th>\n",
       "      <td>1</td>\n",
       "      <td>0.000974</td>\n",
       "    </tr>\n",
       "    <tr>\n",
       "      <th>EXP 4</th>\n",
       "      <td>1</td>\n",
       "      <td>0.000974</td>\n",
       "    </tr>\n",
       "    <tr>\n",
       "      <th>CHAMP</th>\n",
       "      <td>1</td>\n",
       "      <td>0.000974</td>\n",
       "    </tr>\n",
       "    <tr>\n",
       "      <th>BUIZ7</th>\n",
       "      <td>1</td>\n",
       "      <td>0.000974</td>\n",
       "    </tr>\n",
       "    <tr>\n",
       "      <th>PTBR</th>\n",
       "      <td>1</td>\n",
       "      <td>0.000974</td>\n",
       "    </tr>\n",
       "    <tr>\n",
       "      <th>SPHA</th>\n",
       "      <td>1</td>\n",
       "      <td>0.000974</td>\n",
       "    </tr>\n",
       "    <tr>\n",
       "      <th>Hyund</th>\n",
       "      <td>1</td>\n",
       "      <td>0.000974</td>\n",
       "    </tr>\n",
       "    <tr>\n",
       "      <th>MON 7</th>\n",
       "      <td>1</td>\n",
       "      <td>0.000974</td>\n",
       "    </tr>\n",
       "    <tr>\n",
       "      <th>PICK</th>\n",
       "      <td>1</td>\n",
       "      <td>0.000974</td>\n",
       "    </tr>\n",
       "    <tr>\n",
       "      <th>VANDU</th>\n",
       "      <td>1</td>\n",
       "      <td>0.000974</td>\n",
       "    </tr>\n",
       "    <tr>\n",
       "      <th>STRG</th>\n",
       "      <td>1</td>\n",
       "      <td>0.000974</td>\n",
       "    </tr>\n",
       "    <tr>\n",
       "      <th>BRMR</th>\n",
       "      <td>1</td>\n",
       "      <td>0.000974</td>\n",
       "    </tr>\n",
       "    <tr>\n",
       "      <th>CROWN</th>\n",
       "      <td>1</td>\n",
       "      <td>0.000974</td>\n",
       "    </tr>\n",
       "    <tr>\n",
       "      <th>AMC H</th>\n",
       "      <td>1</td>\n",
       "      <td>0.000974</td>\n",
       "    </tr>\n",
       "  </tbody>\n",
       "</table>\n",
       "<p>1027 rows × 2 columns</p>\n",
       "</div>"
      ],
      "text/plain": [
       "            counts     freqs\n",
       "categories                  \n",
       "INFIN            1  0.000974\n",
       "GMC              1  0.000974\n",
       "FORD             1  0.000974\n",
       "HOND             1  0.000974\n",
       "MERC             1  0.000974\n",
       "DETAC            1  0.000974\n",
       "DODG             1  0.000974\n",
       "ACURA            1  0.000974\n",
       "TOYOT            1  0.000974\n",
       "HONDA            1  0.000974\n",
       "HYUN             1  0.000974\n",
       "CHRY             1  0.000974\n",
       "CHEVR            1  0.000974\n",
       "VOLK             1  0.000974\n",
       "BUICK            1  0.000974\n",
       "OLDS             1  0.000974\n",
       "TOYT             1  0.000974\n",
       "MITS             1  0.000974\n",
       "ISUZ             1  0.000974\n",
       "MAZD             1  0.000974\n",
       "VOLKS            1  0.000974\n",
       "INFI             1  0.000974\n",
       "KIA              1  0.000974\n",
       "CHEV             1  0.000974\n",
       "DODGE            1  0.000974\n",
       "CHRYS            1  0.000974\n",
       "JEEP             1  0.000974\n",
       "HYUND            1  0.000974\n",
       "VOLVO            1  0.000974\n",
       "LNDR             1  0.000974\n",
       "...            ...       ...\n",
       "HOME             1  0.000974\n",
       "MISSI            1  0.000974\n",
       "APPAL            1  0.000974\n",
       "CAN C            1  0.000974\n",
       "FEX              1  0.000974\n",
       "VOLKW            1  0.000974\n",
       "BMX              1  0.000974\n",
       "VERUC            1  0.000974\n",
       "CAMR             1  0.000974\n",
       "SUPRE            1  0.000974\n",
       "ME               1  0.000974\n",
       "HALE             1  0.000974\n",
       "JEEPS            1  0.000974\n",
       "BMW 7            1  0.000974\n",
       "19744            1  0.000974\n",
       "LINK             1  0.000974\n",
       "ABFTR            1  0.000974\n",
       "EXP 4            1  0.000974\n",
       "CHAMP            1  0.000974\n",
       "BUIZ7            1  0.000974\n",
       "PTBR             1  0.000974\n",
       "SPHA             1  0.000974\n",
       "Hyund            1  0.000974\n",
       "MON 7            1  0.000974\n",
       "PICK             1  0.000974\n",
       "VANDU            1  0.000974\n",
       "STRG             1  0.000974\n",
       "BRMR             1  0.000974\n",
       "CROWN            1  0.000974\n",
       "AMC H            1  0.000974\n",
       "\n",
       "[1027 rows x 2 columns]"
      ]
     },
     "execution_count": 21,
     "metadata": {},
     "output_type": "execute_result"
    }
   ],
   "source": [
    "unique_makes = make[make.notnull()].unique()\n",
    "print(unique_makes)\n",
    "cat_make = pd.Categorical(make, unique_makes, ordered=False)\n",
    "unique_makes.describe()"
   ]
  },
  {
   "cell_type": "code",
   "execution_count": 22,
   "metadata": {},
   "outputs": [
    {
     "data": {
      "text/plain": [
       "count     1343712\n",
       "unique       1027\n",
       "top          FORD\n",
       "freq       150351\n",
       "Name: Make, dtype: object"
      ]
     },
     "execution_count": 22,
     "metadata": {},
     "output_type": "execute_result"
    }
   ],
   "source": [
    "make[make.notnull()].describe()"
   ]
  },
  {
   "cell_type": "markdown",
   "metadata": {},
   "source": [
    "- There are 1027 car makes\n",
    "- The most common make to receive violations is Ford, coming in at 150,351 violations (~11%)\n",
    "\n",
    "- Need to remove and sum all duplicates in makes (ex., HOND and HONDA) (maybe only go out to 3 or 4 characters)\n",
    "- How to plot the categorical data?"
   ]
  },
  {
   "cell_type": "code",
   "execution_count": 23,
   "metadata": {},
   "outputs": [
    {
     "data": {
      "text/plain": [
       "0.11189228048867614"
      ]
     },
     "execution_count": 23,
     "metadata": {},
     "output_type": "execute_result"
    }
   ],
   "source": [
    "150351/1343712"
   ]
  },
  {
   "cell_type": "code",
   "execution_count": 24,
   "metadata": {},
   "outputs": [
    {
     "name": "stdout",
     "output_type": "stream",
     "text": [
      "[WV, MD, VA, TN, PA, ..., NT, SE, MX, YT, YU]\n",
      "Length: 102\n",
      "Categories (102, object): [WV, MD, VA, TN, ..., SE, MX, YT, YU]\n"
     ]
    },
    {
     "data": {
      "text/html": [
       "<div>\n",
       "<style>\n",
       "    .dataframe thead tr:only-child th {\n",
       "        text-align: right;\n",
       "    }\n",
       "\n",
       "    .dataframe thead th {\n",
       "        text-align: left;\n",
       "    }\n",
       "\n",
       "    .dataframe tbody tr th {\n",
       "        vertical-align: top;\n",
       "    }\n",
       "</style>\n",
       "<table border=\"1\" class=\"dataframe\">\n",
       "  <thead>\n",
       "    <tr style=\"text-align: right;\">\n",
       "      <th></th>\n",
       "      <th>counts</th>\n",
       "      <th>freqs</th>\n",
       "    </tr>\n",
       "    <tr>\n",
       "      <th>categories</th>\n",
       "      <th></th>\n",
       "      <th></th>\n",
       "    </tr>\n",
       "  </thead>\n",
       "  <tbody>\n",
       "    <tr>\n",
       "      <th>WV</th>\n",
       "      <td>1</td>\n",
       "      <td>0.009804</td>\n",
       "    </tr>\n",
       "    <tr>\n",
       "      <th>MD</th>\n",
       "      <td>1</td>\n",
       "      <td>0.009804</td>\n",
       "    </tr>\n",
       "    <tr>\n",
       "      <th>VA</th>\n",
       "      <td>1</td>\n",
       "      <td>0.009804</td>\n",
       "    </tr>\n",
       "    <tr>\n",
       "      <th>TN</th>\n",
       "      <td>1</td>\n",
       "      <td>0.009804</td>\n",
       "    </tr>\n",
       "    <tr>\n",
       "      <th>PA</th>\n",
       "      <td>1</td>\n",
       "      <td>0.009804</td>\n",
       "    </tr>\n",
       "    <tr>\n",
       "      <th>DE</th>\n",
       "      <td>1</td>\n",
       "      <td>0.009804</td>\n",
       "    </tr>\n",
       "    <tr>\n",
       "      <th>WA</th>\n",
       "      <td>1</td>\n",
       "      <td>0.009804</td>\n",
       "    </tr>\n",
       "    <tr>\n",
       "      <th>FL</th>\n",
       "      <td>1</td>\n",
       "      <td>0.009804</td>\n",
       "    </tr>\n",
       "    <tr>\n",
       "      <th>NY</th>\n",
       "      <td>1</td>\n",
       "      <td>0.009804</td>\n",
       "    </tr>\n",
       "    <tr>\n",
       "      <th>AZ</th>\n",
       "      <td>1</td>\n",
       "      <td>0.009804</td>\n",
       "    </tr>\n",
       "    <tr>\n",
       "      <th>TX</th>\n",
       "      <td>1</td>\n",
       "      <td>0.009804</td>\n",
       "    </tr>\n",
       "    <tr>\n",
       "      <th>CT</th>\n",
       "      <td>1</td>\n",
       "      <td>0.009804</td>\n",
       "    </tr>\n",
       "    <tr>\n",
       "      <th>AL</th>\n",
       "      <td>1</td>\n",
       "      <td>0.009804</td>\n",
       "    </tr>\n",
       "    <tr>\n",
       "      <th>NJ</th>\n",
       "      <td>1</td>\n",
       "      <td>0.009804</td>\n",
       "    </tr>\n",
       "    <tr>\n",
       "      <th>NC</th>\n",
       "      <td>1</td>\n",
       "      <td>0.009804</td>\n",
       "    </tr>\n",
       "    <tr>\n",
       "      <th>CO</th>\n",
       "      <td>1</td>\n",
       "      <td>0.009804</td>\n",
       "    </tr>\n",
       "    <tr>\n",
       "      <th>CA</th>\n",
       "      <td>1</td>\n",
       "      <td>0.009804</td>\n",
       "    </tr>\n",
       "    <tr>\n",
       "      <th>MO</th>\n",
       "      <td>1</td>\n",
       "      <td>0.009804</td>\n",
       "    </tr>\n",
       "    <tr>\n",
       "      <th>OR</th>\n",
       "      <td>1</td>\n",
       "      <td>0.009804</td>\n",
       "    </tr>\n",
       "    <tr>\n",
       "      <th>DC</th>\n",
       "      <td>1</td>\n",
       "      <td>0.009804</td>\n",
       "    </tr>\n",
       "    <tr>\n",
       "      <th>NV</th>\n",
       "      <td>1</td>\n",
       "      <td>0.009804</td>\n",
       "    </tr>\n",
       "    <tr>\n",
       "      <th>NM</th>\n",
       "      <td>1</td>\n",
       "      <td>0.009804</td>\n",
       "    </tr>\n",
       "    <tr>\n",
       "      <th>AR</th>\n",
       "      <td>1</td>\n",
       "      <td>0.009804</td>\n",
       "    </tr>\n",
       "    <tr>\n",
       "      <th>KS</th>\n",
       "      <td>1</td>\n",
       "      <td>0.009804</td>\n",
       "    </tr>\n",
       "    <tr>\n",
       "      <th>LA</th>\n",
       "      <td>1</td>\n",
       "      <td>0.009804</td>\n",
       "    </tr>\n",
       "    <tr>\n",
       "      <th>RI</th>\n",
       "      <td>1</td>\n",
       "      <td>0.009804</td>\n",
       "    </tr>\n",
       "    <tr>\n",
       "      <th>ME</th>\n",
       "      <td>1</td>\n",
       "      <td>0.009804</td>\n",
       "    </tr>\n",
       "    <tr>\n",
       "      <th>OK</th>\n",
       "      <td>1</td>\n",
       "      <td>0.009804</td>\n",
       "    </tr>\n",
       "    <tr>\n",
       "      <th>IL</th>\n",
       "      <td>1</td>\n",
       "      <td>0.009804</td>\n",
       "    </tr>\n",
       "    <tr>\n",
       "      <th>SC</th>\n",
       "      <td>1</td>\n",
       "      <td>0.009804</td>\n",
       "    </tr>\n",
       "    <tr>\n",
       "      <th>...</th>\n",
       "      <td>...</td>\n",
       "      <td>...</td>\n",
       "    </tr>\n",
       "    <tr>\n",
       "      <th>AM</th>\n",
       "      <td>1</td>\n",
       "      <td>0.009804</td>\n",
       "    </tr>\n",
       "    <tr>\n",
       "      <th>PE</th>\n",
       "      <td>1</td>\n",
       "      <td>0.009804</td>\n",
       "    </tr>\n",
       "    <tr>\n",
       "      <th>AS</th>\n",
       "      <td>1</td>\n",
       "      <td>0.009804</td>\n",
       "    </tr>\n",
       "    <tr>\n",
       "      <th>NL</th>\n",
       "      <td>1</td>\n",
       "      <td>0.009804</td>\n",
       "    </tr>\n",
       "    <tr>\n",
       "      <th>MC</th>\n",
       "      <td>1</td>\n",
       "      <td>0.009804</td>\n",
       "    </tr>\n",
       "    <tr>\n",
       "      <th>RH</th>\n",
       "      <td>1</td>\n",
       "      <td>0.009804</td>\n",
       "    </tr>\n",
       "    <tr>\n",
       "      <th>LS</th>\n",
       "      <td>1</td>\n",
       "      <td>0.009804</td>\n",
       "    </tr>\n",
       "    <tr>\n",
       "      <th>FA</th>\n",
       "      <td>1</td>\n",
       "      <td>0.009804</td>\n",
       "    </tr>\n",
       "    <tr>\n",
       "      <th>NB</th>\n",
       "      <td>1</td>\n",
       "      <td>0.009804</td>\n",
       "    </tr>\n",
       "    <tr>\n",
       "      <th>LN</th>\n",
       "      <td>1</td>\n",
       "      <td>0.009804</td>\n",
       "    </tr>\n",
       "    <tr>\n",
       "      <th>SK</th>\n",
       "      <td>1</td>\n",
       "      <td>0.009804</td>\n",
       "    </tr>\n",
       "    <tr>\n",
       "      <th>MV</th>\n",
       "      <td>1</td>\n",
       "      <td>0.009804</td>\n",
       "    </tr>\n",
       "    <tr>\n",
       "      <th>DW</th>\n",
       "      <td>1</td>\n",
       "      <td>0.009804</td>\n",
       "    </tr>\n",
       "    <tr>\n",
       "      <th>TS</th>\n",
       "      <td>1</td>\n",
       "      <td>0.009804</td>\n",
       "    </tr>\n",
       "    <tr>\n",
       "      <th>FN</th>\n",
       "      <td>1</td>\n",
       "      <td>0.009804</td>\n",
       "    </tr>\n",
       "    <tr>\n",
       "      <th>00</th>\n",
       "      <td>1</td>\n",
       "      <td>0.009804</td>\n",
       "    </tr>\n",
       "    <tr>\n",
       "      <th>VR</th>\n",
       "      <td>1</td>\n",
       "      <td>0.009804</td>\n",
       "    </tr>\n",
       "    <tr>\n",
       "      <th>KI</th>\n",
       "      <td>1</td>\n",
       "      <td>0.009804</td>\n",
       "    </tr>\n",
       "    <tr>\n",
       "      <th>DK</th>\n",
       "      <td>1</td>\n",
       "      <td>0.009804</td>\n",
       "    </tr>\n",
       "    <tr>\n",
       "      <th>CL</th>\n",
       "      <td>1</td>\n",
       "      <td>0.009804</td>\n",
       "    </tr>\n",
       "    <tr>\n",
       "      <th>TE</th>\n",
       "      <td>1</td>\n",
       "      <td>0.009804</td>\n",
       "    </tr>\n",
       "    <tr>\n",
       "      <th>WT</th>\n",
       "      <td>1</td>\n",
       "      <td>0.009804</td>\n",
       "    </tr>\n",
       "    <tr>\n",
       "      <th>KX</th>\n",
       "      <td>1</td>\n",
       "      <td>0.009804</td>\n",
       "    </tr>\n",
       "    <tr>\n",
       "      <th>TA</th>\n",
       "      <td>1</td>\n",
       "      <td>0.009804</td>\n",
       "    </tr>\n",
       "    <tr>\n",
       "      <th>GE</th>\n",
       "      <td>1</td>\n",
       "      <td>0.009804</td>\n",
       "    </tr>\n",
       "    <tr>\n",
       "      <th>NT</th>\n",
       "      <td>1</td>\n",
       "      <td>0.009804</td>\n",
       "    </tr>\n",
       "    <tr>\n",
       "      <th>SE</th>\n",
       "      <td>1</td>\n",
       "      <td>0.009804</td>\n",
       "    </tr>\n",
       "    <tr>\n",
       "      <th>MX</th>\n",
       "      <td>1</td>\n",
       "      <td>0.009804</td>\n",
       "    </tr>\n",
       "    <tr>\n",
       "      <th>YT</th>\n",
       "      <td>1</td>\n",
       "      <td>0.009804</td>\n",
       "    </tr>\n",
       "    <tr>\n",
       "      <th>YU</th>\n",
       "      <td>1</td>\n",
       "      <td>0.009804</td>\n",
       "    </tr>\n",
       "  </tbody>\n",
       "</table>\n",
       "<p>102 rows × 2 columns</p>\n",
       "</div>"
      ],
      "text/plain": [
       "            counts     freqs\n",
       "categories                  \n",
       "WV               1  0.009804\n",
       "MD               1  0.009804\n",
       "VA               1  0.009804\n",
       "TN               1  0.009804\n",
       "PA               1  0.009804\n",
       "DE               1  0.009804\n",
       "WA               1  0.009804\n",
       "FL               1  0.009804\n",
       "NY               1  0.009804\n",
       "AZ               1  0.009804\n",
       "TX               1  0.009804\n",
       "CT               1  0.009804\n",
       "AL               1  0.009804\n",
       "NJ               1  0.009804\n",
       "NC               1  0.009804\n",
       "CO               1  0.009804\n",
       "CA               1  0.009804\n",
       "MO               1  0.009804\n",
       "OR               1  0.009804\n",
       "DC               1  0.009804\n",
       "NV               1  0.009804\n",
       "NM               1  0.009804\n",
       "AR               1  0.009804\n",
       "KS               1  0.009804\n",
       "LA               1  0.009804\n",
       "RI               1  0.009804\n",
       "ME               1  0.009804\n",
       "OK               1  0.009804\n",
       "IL               1  0.009804\n",
       "SC               1  0.009804\n",
       "...            ...       ...\n",
       "AM               1  0.009804\n",
       "PE               1  0.009804\n",
       "AS               1  0.009804\n",
       "NL               1  0.009804\n",
       "MC               1  0.009804\n",
       "RH               1  0.009804\n",
       "LS               1  0.009804\n",
       "FA               1  0.009804\n",
       "NB               1  0.009804\n",
       "LN               1  0.009804\n",
       "SK               1  0.009804\n",
       "MV               1  0.009804\n",
       "DW               1  0.009804\n",
       "TS               1  0.009804\n",
       "FN               1  0.009804\n",
       "00               1  0.009804\n",
       "VR               1  0.009804\n",
       "KI               1  0.009804\n",
       "DK               1  0.009804\n",
       "CL               1  0.009804\n",
       "TE               1  0.009804\n",
       "WT               1  0.009804\n",
       "KX               1  0.009804\n",
       "TA               1  0.009804\n",
       "GE               1  0.009804\n",
       "NT               1  0.009804\n",
       "SE               1  0.009804\n",
       "MX               1  0.009804\n",
       "YT               1  0.009804\n",
       "YU               1  0.009804\n",
       "\n",
       "[102 rows x 2 columns]"
      ]
     },
     "execution_count": 24,
     "metadata": {},
     "output_type": "execute_result"
    }
   ],
   "source": [
    "unique_states = state[state.notnull()].unique()\n",
    "print(unique_states)\n",
    "cat_state = pd.Categorical(state, unique_states, ordered=False)\n",
    "unique_states.describe()"
   ]
  },
  {
   "cell_type": "code",
   "execution_count": 25,
   "metadata": {
    "scrolled": true
   },
   "outputs": [
    {
     "data": {
      "text/plain": [
       "count     1345053\n",
       "unique        102\n",
       "top            MD\n",
       "freq      1120119\n",
       "Name: State, dtype: object"
      ]
     },
     "execution_count": 25,
     "metadata": {},
     "output_type": "execute_result"
    }
   ],
   "source": [
    "state[state.notnull()].describe()"
   ]
  },
  {
   "cell_type": "markdown",
   "metadata": {},
   "source": [
    "- There are 102 license plate states - need to investigate where others are coming from (canada?)\n",
    "- The most common state to receive violations is MD, coming in at 1,120,119 violations (~83%); not surprising\n",
    "- How to plot the categorical data?"
   ]
  },
  {
   "cell_type": "code",
   "execution_count": 26,
   "metadata": {},
   "outputs": [
    {
     "data": {
      "text/plain": [
       "0.8327694150342031"
      ]
     },
     "execution_count": 26,
     "metadata": {},
     "output_type": "execute_result"
    }
   ],
   "source": [
    "1120119/1345053"
   ]
  },
  {
   "cell_type": "code",
   "execution_count": 27,
   "metadata": {},
   "outputs": [
    {
     "ename": "ValueError",
     "evalue": "object __array__ method not producing an array",
     "output_type": "error",
     "traceback": [
      "\u001b[0;31m---------------------------------------------------------------------------\u001b[0m",
      "\u001b[0;31mValueError\u001b[0m                                Traceback (most recent call last)",
      "\u001b[0;32m<ipython-input-27-065227acc65d>\u001b[0m in \u001b[0;36m<module>\u001b[0;34m()\u001b[0m\n\u001b[1;32m      1\u001b[0m \u001b[0;31m# cat_make.value_counts().plot(kind='hist')\u001b[0m\u001b[0;34m\u001b[0m\u001b[0;34m\u001b[0m\u001b[0m\n\u001b[0;32m----> 2\u001b[0;31m \u001b[0mplt\u001b[0m\u001b[0;34m.\u001b[0m\u001b[0mhist\u001b[0m\u001b[0;34m(\u001b[0m\u001b[0mcat_state\u001b[0m\u001b[0;34m)\u001b[0m\u001b[0;34m\u001b[0m\u001b[0m\n\u001b[0m\u001b[1;32m      3\u001b[0m \u001b[0mplt\u001b[0m\u001b[0;34m.\u001b[0m\u001b[0mtitle\u001b[0m\u001b[0;34m(\u001b[0m\u001b[0;34m'State of License Plate'\u001b[0m\u001b[0;34m)\u001b[0m\u001b[0;34m\u001b[0m\u001b[0m\n\u001b[1;32m      4\u001b[0m \u001b[0mplt\u001b[0m\u001b[0;34m.\u001b[0m\u001b[0myscale\u001b[0m\u001b[0;34m(\u001b[0m\u001b[0;34m'log'\u001b[0m\u001b[0;34m)\u001b[0m\u001b[0;34m\u001b[0m\u001b[0m\n\u001b[1;32m      5\u001b[0m \u001b[0mplt\u001b[0m\u001b[0;34m.\u001b[0m\u001b[0mshow\u001b[0m\u001b[0;34m(\u001b[0m\u001b[0;34m)\u001b[0m\u001b[0;34m\u001b[0m\u001b[0m\n",
      "\u001b[0;32m/Users/tami/anaconda/lib/python3.6/site-packages/matplotlib/pyplot.py\u001b[0m in \u001b[0;36mhist\u001b[0;34m(x, bins, range, normed, weights, cumulative, bottom, histtype, align, orientation, rwidth, log, color, label, stacked, hold, data, **kwargs)\u001b[0m\n\u001b[1;32m   3079\u001b[0m                       \u001b[0mhisttype\u001b[0m\u001b[0;34m=\u001b[0m\u001b[0mhisttype\u001b[0m\u001b[0;34m,\u001b[0m \u001b[0malign\u001b[0m\u001b[0;34m=\u001b[0m\u001b[0malign\u001b[0m\u001b[0;34m,\u001b[0m \u001b[0morientation\u001b[0m\u001b[0;34m=\u001b[0m\u001b[0morientation\u001b[0m\u001b[0;34m,\u001b[0m\u001b[0;34m\u001b[0m\u001b[0m\n\u001b[1;32m   3080\u001b[0m                       \u001b[0mrwidth\u001b[0m\u001b[0;34m=\u001b[0m\u001b[0mrwidth\u001b[0m\u001b[0;34m,\u001b[0m \u001b[0mlog\u001b[0m\u001b[0;34m=\u001b[0m\u001b[0mlog\u001b[0m\u001b[0;34m,\u001b[0m \u001b[0mcolor\u001b[0m\u001b[0;34m=\u001b[0m\u001b[0mcolor\u001b[0m\u001b[0;34m,\u001b[0m \u001b[0mlabel\u001b[0m\u001b[0;34m=\u001b[0m\u001b[0mlabel\u001b[0m\u001b[0;34m,\u001b[0m\u001b[0;34m\u001b[0m\u001b[0m\n\u001b[0;32m-> 3081\u001b[0;31m                       stacked=stacked, data=data, **kwargs)\n\u001b[0m\u001b[1;32m   3082\u001b[0m     \u001b[0;32mfinally\u001b[0m\u001b[0;34m:\u001b[0m\u001b[0;34m\u001b[0m\u001b[0m\n\u001b[1;32m   3083\u001b[0m         \u001b[0max\u001b[0m\u001b[0;34m.\u001b[0m\u001b[0m_hold\u001b[0m \u001b[0;34m=\u001b[0m \u001b[0mwashold\u001b[0m\u001b[0;34m\u001b[0m\u001b[0m\n",
      "\u001b[0;32m/Users/tami/anaconda/lib/python3.6/site-packages/matplotlib/__init__.py\u001b[0m in \u001b[0;36minner\u001b[0;34m(ax, *args, **kwargs)\u001b[0m\n\u001b[1;32m   1896\u001b[0m                     warnings.warn(msg % (label_namer, func.__name__),\n\u001b[1;32m   1897\u001b[0m                                   RuntimeWarning, stacklevel=2)\n\u001b[0;32m-> 1898\u001b[0;31m             \u001b[0;32mreturn\u001b[0m \u001b[0mfunc\u001b[0m\u001b[0;34m(\u001b[0m\u001b[0max\u001b[0m\u001b[0;34m,\u001b[0m \u001b[0;34m*\u001b[0m\u001b[0margs\u001b[0m\u001b[0;34m,\u001b[0m \u001b[0;34m**\u001b[0m\u001b[0mkwargs\u001b[0m\u001b[0;34m)\u001b[0m\u001b[0;34m\u001b[0m\u001b[0m\n\u001b[0m\u001b[1;32m   1899\u001b[0m         \u001b[0mpre_doc\u001b[0m \u001b[0;34m=\u001b[0m \u001b[0minner\u001b[0m\u001b[0;34m.\u001b[0m\u001b[0m__doc__\u001b[0m\u001b[0;34m\u001b[0m\u001b[0m\n\u001b[1;32m   1900\u001b[0m         \u001b[0;32mif\u001b[0m \u001b[0mpre_doc\u001b[0m \u001b[0;32mis\u001b[0m \u001b[0;32mNone\u001b[0m\u001b[0;34m:\u001b[0m\u001b[0;34m\u001b[0m\u001b[0m\n",
      "\u001b[0;32m/Users/tami/anaconda/lib/python3.6/site-packages/matplotlib/axes/_axes.py\u001b[0m in \u001b[0;36mhist\u001b[0;34m(***failed resolving arguments***)\u001b[0m\n\u001b[1;32m   6127\u001b[0m \u001b[0;34m\u001b[0m\u001b[0m\n\u001b[1;32m   6128\u001b[0m         \u001b[0;31m# process the unit information\u001b[0m\u001b[0;34m\u001b[0m\u001b[0;34m\u001b[0m\u001b[0m\n\u001b[0;32m-> 6129\u001b[0;31m         \u001b[0mself\u001b[0m\u001b[0;34m.\u001b[0m\u001b[0m_process_unit_info\u001b[0m\u001b[0;34m(\u001b[0m\u001b[0mxdata\u001b[0m\u001b[0;34m=\u001b[0m\u001b[0mx\u001b[0m\u001b[0;34m,\u001b[0m \u001b[0mkwargs\u001b[0m\u001b[0;34m=\u001b[0m\u001b[0mkwargs\u001b[0m\u001b[0;34m)\u001b[0m\u001b[0;34m\u001b[0m\u001b[0m\n\u001b[0m\u001b[1;32m   6130\u001b[0m         \u001b[0mx\u001b[0m \u001b[0;34m=\u001b[0m \u001b[0mself\u001b[0m\u001b[0;34m.\u001b[0m\u001b[0mconvert_xunits\u001b[0m\u001b[0;34m(\u001b[0m\u001b[0mx\u001b[0m\u001b[0;34m)\u001b[0m\u001b[0;34m\u001b[0m\u001b[0m\n\u001b[1;32m   6131\u001b[0m         \u001b[0;32mif\u001b[0m \u001b[0mbin_range\u001b[0m \u001b[0;32mis\u001b[0m \u001b[0;32mnot\u001b[0m \u001b[0;32mNone\u001b[0m\u001b[0;34m:\u001b[0m\u001b[0;34m\u001b[0m\u001b[0m\n",
      "\u001b[0;32m/Users/tami/anaconda/lib/python3.6/site-packages/matplotlib/axes/_base.py\u001b[0m in \u001b[0;36m_process_unit_info\u001b[0;34m(self, xdata, ydata, kwargs)\u001b[0m\n\u001b[1;32m   1994\u001b[0m             \u001b[0;31m# we only need to update if there is nothing set yet.\u001b[0m\u001b[0;34m\u001b[0m\u001b[0;34m\u001b[0m\u001b[0m\n\u001b[1;32m   1995\u001b[0m             \u001b[0;32mif\u001b[0m \u001b[0;32mnot\u001b[0m \u001b[0mself\u001b[0m\u001b[0;34m.\u001b[0m\u001b[0mxaxis\u001b[0m\u001b[0;34m.\u001b[0m\u001b[0mhave_units\u001b[0m\u001b[0;34m(\u001b[0m\u001b[0;34m)\u001b[0m\u001b[0;34m:\u001b[0m\u001b[0;34m\u001b[0m\u001b[0m\n\u001b[0;32m-> 1996\u001b[0;31m                 \u001b[0mself\u001b[0m\u001b[0;34m.\u001b[0m\u001b[0mxaxis\u001b[0m\u001b[0;34m.\u001b[0m\u001b[0mupdate_units\u001b[0m\u001b[0;34m(\u001b[0m\u001b[0mxdata\u001b[0m\u001b[0;34m)\u001b[0m\u001b[0;34m\u001b[0m\u001b[0m\n\u001b[0m\u001b[1;32m   1997\u001b[0m \u001b[0;34m\u001b[0m\u001b[0m\n\u001b[1;32m   1998\u001b[0m         \u001b[0;32mif\u001b[0m \u001b[0mydata\u001b[0m \u001b[0;32mis\u001b[0m \u001b[0;32mnot\u001b[0m \u001b[0;32mNone\u001b[0m\u001b[0;34m:\u001b[0m\u001b[0;34m\u001b[0m\u001b[0m\n",
      "\u001b[0;32m/Users/tami/anaconda/lib/python3.6/site-packages/matplotlib/axis.py\u001b[0m in \u001b[0;36mupdate_units\u001b[0;34m(self, data)\u001b[0m\n\u001b[1;32m   1411\u001b[0m         \"\"\"\n\u001b[1;32m   1412\u001b[0m \u001b[0;34m\u001b[0m\u001b[0m\n\u001b[0;32m-> 1413\u001b[0;31m         \u001b[0mconverter\u001b[0m \u001b[0;34m=\u001b[0m \u001b[0mmunits\u001b[0m\u001b[0;34m.\u001b[0m\u001b[0mregistry\u001b[0m\u001b[0;34m.\u001b[0m\u001b[0mget_converter\u001b[0m\u001b[0;34m(\u001b[0m\u001b[0mdata\u001b[0m\u001b[0;34m)\u001b[0m\u001b[0;34m\u001b[0m\u001b[0m\n\u001b[0m\u001b[1;32m   1414\u001b[0m         \u001b[0;32mif\u001b[0m \u001b[0mconverter\u001b[0m \u001b[0;32mis\u001b[0m \u001b[0;32mNone\u001b[0m\u001b[0;34m:\u001b[0m\u001b[0;34m\u001b[0m\u001b[0m\n\u001b[1;32m   1415\u001b[0m             \u001b[0;32mreturn\u001b[0m \u001b[0;32mFalse\u001b[0m\u001b[0;34m\u001b[0m\u001b[0m\n",
      "\u001b[0;32m/Users/tami/anaconda/lib/python3.6/site-packages/matplotlib/units.py\u001b[0m in \u001b[0;36mget_converter\u001b[0;34m(self, x)\u001b[0m\n\u001b[1;32m    159\u001b[0m                 \u001b[0;32mreturn\u001b[0m \u001b[0mconverter\u001b[0m\u001b[0;34m\u001b[0m\u001b[0m\n\u001b[1;32m    160\u001b[0m \u001b[0;34m\u001b[0m\u001b[0m\n\u001b[0;32m--> 161\u001b[0;31m         \u001b[0;32mif\u001b[0m \u001b[0mconverter\u001b[0m \u001b[0;32mis\u001b[0m \u001b[0;32mNone\u001b[0m \u001b[0;32mand\u001b[0m \u001b[0miterable\u001b[0m\u001b[0;34m(\u001b[0m\u001b[0mx\u001b[0m\u001b[0;34m)\u001b[0m \u001b[0;32mand\u001b[0m \u001b[0;34m(\u001b[0m\u001b[0mlen\u001b[0m\u001b[0;34m(\u001b[0m\u001b[0mx\u001b[0m\u001b[0;34m)\u001b[0m \u001b[0;34m>\u001b[0m \u001b[0;36m0\u001b[0m\u001b[0;34m)\u001b[0m\u001b[0;34m:\u001b[0m\u001b[0;34m\u001b[0m\u001b[0m\n\u001b[0m\u001b[1;32m    162\u001b[0m             \u001b[0mthisx\u001b[0m \u001b[0;34m=\u001b[0m \u001b[0msafe_first_element\u001b[0m\u001b[0;34m(\u001b[0m\u001b[0mx\u001b[0m\u001b[0;34m)\u001b[0m\u001b[0;34m\u001b[0m\u001b[0m\n\u001b[1;32m    163\u001b[0m             \u001b[0;32mif\u001b[0m \u001b[0mclassx\u001b[0m \u001b[0;32mand\u001b[0m \u001b[0mclassx\u001b[0m \u001b[0;34m!=\u001b[0m \u001b[0mgetattr\u001b[0m\u001b[0;34m(\u001b[0m\u001b[0mthisx\u001b[0m\u001b[0;34m,\u001b[0m \u001b[0;34m'__class__'\u001b[0m\u001b[0;34m,\u001b[0m \u001b[0;32mNone\u001b[0m\u001b[0;34m)\u001b[0m\u001b[0;34m:\u001b[0m\u001b[0;34m\u001b[0m\u001b[0m\n",
      "\u001b[0;32m/Users/tami/anaconda/lib/python3.6/site-packages/matplotlib/cbook.py\u001b[0m in \u001b[0;36miterable\u001b[0;34m(obj)\u001b[0m\n\u001b[1;32m    679\u001b[0m     \u001b[0;34m\"\"\"return true if *obj* is iterable\"\"\"\u001b[0m\u001b[0;34m\u001b[0m\u001b[0m\n\u001b[1;32m    680\u001b[0m     \u001b[0;32mtry\u001b[0m\u001b[0;34m:\u001b[0m\u001b[0;34m\u001b[0m\u001b[0m\n\u001b[0;32m--> 681\u001b[0;31m         \u001b[0miter\u001b[0m\u001b[0;34m(\u001b[0m\u001b[0mobj\u001b[0m\u001b[0;34m)\u001b[0m\u001b[0;34m\u001b[0m\u001b[0m\n\u001b[0m\u001b[1;32m    682\u001b[0m     \u001b[0;32mexcept\u001b[0m \u001b[0mTypeError\u001b[0m\u001b[0;34m:\u001b[0m\u001b[0;34m\u001b[0m\u001b[0m\n\u001b[1;32m    683\u001b[0m         \u001b[0;32mreturn\u001b[0m \u001b[0;32mFalse\u001b[0m\u001b[0;34m\u001b[0m\u001b[0m\n",
      "\u001b[0;32m/Users/tami/anaconda/lib/python3.6/site-packages/pandas/core/categorical.py\u001b[0m in \u001b[0;36m__iter__\u001b[0;34m(self)\u001b[0m\n\u001b[1;32m   1596\u001b[0m     \u001b[0;32mdef\u001b[0m \u001b[0m__iter__\u001b[0m\u001b[0;34m(\u001b[0m\u001b[0mself\u001b[0m\u001b[0;34m)\u001b[0m\u001b[0;34m:\u001b[0m\u001b[0;34m\u001b[0m\u001b[0m\n\u001b[1;32m   1597\u001b[0m         \u001b[0;34m\"\"\"Returns an Iterator over the values of this Categorical.\"\"\"\u001b[0m\u001b[0;34m\u001b[0m\u001b[0m\n\u001b[0;32m-> 1598\u001b[0;31m         \u001b[0;32mreturn\u001b[0m \u001b[0miter\u001b[0m\u001b[0;34m(\u001b[0m\u001b[0mself\u001b[0m\u001b[0;34m.\u001b[0m\u001b[0mget_values\u001b[0m\u001b[0;34m(\u001b[0m\u001b[0;34m)\u001b[0m\u001b[0;34m)\u001b[0m\u001b[0;34m\u001b[0m\u001b[0m\n\u001b[0m\u001b[1;32m   1599\u001b[0m \u001b[0;34m\u001b[0m\u001b[0m\n\u001b[1;32m   1600\u001b[0m     \u001b[0;32mdef\u001b[0m \u001b[0m_tidy_repr\u001b[0m\u001b[0;34m(\u001b[0m\u001b[0mself\u001b[0m\u001b[0;34m,\u001b[0m \u001b[0mmax_vals\u001b[0m\u001b[0;34m=\u001b[0m\u001b[0;36m10\u001b[0m\u001b[0;34m,\u001b[0m \u001b[0mfooter\u001b[0m\u001b[0;34m=\u001b[0m\u001b[0;32mTrue\u001b[0m\u001b[0;34m)\u001b[0m\u001b[0;34m:\u001b[0m\u001b[0;34m\u001b[0m\u001b[0m\n",
      "\u001b[0;32m/Users/tami/anaconda/lib/python3.6/site-packages/pandas/core/categorical.py\u001b[0m in \u001b[0;36mget_values\u001b[0;34m(self)\u001b[0m\n\u001b[1;32m   1255\u001b[0m         \u001b[0;32mif\u001b[0m \u001b[0mis_datetimelike\u001b[0m\u001b[0;34m(\u001b[0m\u001b[0mself\u001b[0m\u001b[0;34m.\u001b[0m\u001b[0mcategories\u001b[0m\u001b[0;34m)\u001b[0m\u001b[0;34m:\u001b[0m\u001b[0;34m\u001b[0m\u001b[0m\n\u001b[1;32m   1256\u001b[0m             \u001b[0;32mreturn\u001b[0m \u001b[0mself\u001b[0m\u001b[0;34m.\u001b[0m\u001b[0mcategories\u001b[0m\u001b[0;34m.\u001b[0m\u001b[0mtake\u001b[0m\u001b[0;34m(\u001b[0m\u001b[0mself\u001b[0m\u001b[0;34m.\u001b[0m\u001b[0m_codes\u001b[0m\u001b[0;34m,\u001b[0m \u001b[0mfill_value\u001b[0m\u001b[0;34m=\u001b[0m\u001b[0mnp\u001b[0m\u001b[0;34m.\u001b[0m\u001b[0mnan\u001b[0m\u001b[0;34m)\u001b[0m\u001b[0;34m\u001b[0m\u001b[0m\n\u001b[0;32m-> 1257\u001b[0;31m         \u001b[0;32mreturn\u001b[0m \u001b[0mnp\u001b[0m\u001b[0;34m.\u001b[0m\u001b[0marray\u001b[0m\u001b[0;34m(\u001b[0m\u001b[0mself\u001b[0m\u001b[0;34m)\u001b[0m\u001b[0;34m\u001b[0m\u001b[0m\n\u001b[0m\u001b[1;32m   1258\u001b[0m \u001b[0;34m\u001b[0m\u001b[0m\n\u001b[1;32m   1259\u001b[0m     \u001b[0;32mdef\u001b[0m \u001b[0mcheck_for_ordered\u001b[0m\u001b[0;34m(\u001b[0m\u001b[0mself\u001b[0m\u001b[0;34m,\u001b[0m \u001b[0mop\u001b[0m\u001b[0;34m)\u001b[0m\u001b[0;34m:\u001b[0m\u001b[0;34m\u001b[0m\u001b[0m\n",
      "\u001b[0;31mValueError\u001b[0m: object __array__ method not producing an array"
     ]
    }
   ],
   "source": [
    "# cat_make.value_counts().plot(kind='hist')\n",
    "plt.hist(cat_state)\n",
    "plt.title('State of License Plate')\n",
    "plt.yscale('log')\n",
    "plt.show()"
   ]
  },
  {
   "cell_type": "markdown",
   "metadata": {},
   "source": [
    "# Now let's look at the Financial data"
   ]
  },
  {
   "cell_type": "code",
   "execution_count": 28,
   "metadata": {},
   "outputs": [
    {
     "data": {
      "image/png": "[encoded data removed]",
      "text/plain": [
       "<matplotlib.figure.Figure at 0x11e7c2b70>"
      ]
     },
     "metadata": {},
     "output_type": "display_data"
    },
    {
     "data": {
      "image/png": "[encoded data removed]",
      "text/plain": [
       "<matplotlib.figure.Figure at 0x11e845dd8>"
      ]
     },
     "metadata": {},
     "output_type": "display_data"
    }
   ],
   "source": [
    "fig=plt.figure(figsize=(18, 16))\n",
    "\n",
    "plt.subplot(4,1,1)\n",
    "plt.hist(fine, bins=100)\n",
    "plt.title('Fine ($)')\n",
    "plt.yscale('log')\n",
    "\n",
    "plt.subplot(4,1,2)\n",
    "plt.hist(balance, bins=30)\n",
    "plt.title('Balance ($)')\n",
    "plt.yscale('log')\n",
    "\n",
    "plt.subplot(4,1,3)\n",
    "plt.hist(open_fine, bins=30)\n",
    "plt.title('Open Fine ($)')\n",
    "plt.yscale('log')\n",
    "\n",
    "plt.subplot(4,1,4)\n",
    "plt.hist(open_penalty, bins=30)\n",
    "plt.title('Open Penalty ($)')\n",
    "plt.yscale('log')\n",
    "\n",
    "plt.tight_layout()\n",
    "plt.show()"
   ]
  },
  {
   "cell_type": "code",
   "execution_count": 29,
   "metadata": {},
   "outputs": [
    {
     "data": {
      "image/png": "[encoded data removed]",
      "text/plain": [
       "<matplotlib.figure.Figure at 0x11e84f668>"
      ]
     },
     "metadata": {},
     "output_type": "display_data"
    }
   ],
   "source": [
    "fig=plt.figure(figsize=(8, 14))\n",
    "\n",
    "plt.subplot(4,1,1)\n",
    "plt.boxplot(fine, 0, 'rs', 0)\n",
    "plt.title('Fine ($)')\n",
    "\n",
    "plt.subplot(4,1,2)\n",
    "plt.boxplot(balance, 0, 'rs', 0)\n",
    "plt.title('Balance ($)')\n",
    "\n",
    "plt.subplot(4,1,3)\n",
    "plt.boxplot(open_fine, 0, 'rs', 0)\n",
    "plt.title('Open Fine ($)')\n",
    "\n",
    "plt.subplot(4,1,4)\n",
    "plt.boxplot(open_penalty, 0, 'rs', 0)\n",
    "plt.title('Open Penalty ($)')\n",
    "\n",
    "plt.tight_layout()\n",
    "plt.show()"
   ]
  },
  {
   "cell_type": "code",
   "execution_count": 30,
   "metadata": {},
   "outputs": [
    {
     "data": {
      "text/plain": [
       "count    1.344668e+06\n",
       "mean     4.752689e+01\n",
       "std      4.478511e+01\n",
       "min      1.700000e+01\n",
       "25%      3.200000e+01\n",
       "50%      3.200000e+01\n",
       "75%      5.200000e+01\n",
       "max      5.020000e+02\n",
       "Name: ViolFine, dtype: float64"
      ]
     },
     "execution_count": 30,
     "metadata": {},
     "output_type": "execute_result"
    }
   ],
   "source": [
    "fine.describe()"
   ]
  },
  {
   "cell_type": "code",
   "execution_count": 31,
   "metadata": {},
   "outputs": [
    {
     "data": {
      "text/plain": [
       "50.384630258175257"
      ]
     },
     "execution_count": 31,
     "metadata": {},
     "output_type": "execute_result"
    }
   ],
   "source": [
    "(fine == 32).sum()/fine.count()*100"
   ]
  },
  {
   "cell_type": "markdown",
   "metadata": {},
   "source": [
    "- The median fine is \\$32\n",
    "- 50% of fines are exactly \\$32 .\n",
    "- 75% of fines are \\$52 or less. \n",
    "- Significant outliers pull the mean up to \\$47.5 \n",
    "- The maximum fine is \\$502 and the minimum \\$17."
   ]
  },
  {
   "cell_type": "code",
   "execution_count": 32,
   "metadata": {},
   "outputs": [
    {
     "data": {
      "text/plain": [
       "count    1.345053e+06\n",
       "mean     7.400970e+01\n",
       "std      1.578945e+02\n",
       "min      0.000000e+00\n",
       "25%      0.000000e+00\n",
       "50%      0.000000e+00\n",
       "75%      4.000000e+01\n",
       "max      2.199000e+03\n",
       "Name: Balance, dtype: float64"
      ]
     },
     "execution_count": 32,
     "metadata": {},
     "output_type": "execute_result"
    }
   ],
   "source": [
    "balance.describe()"
   ]
  },
  {
   "cell_type": "code",
   "execution_count": 33,
   "metadata": {},
   "outputs": [
    {
     "data": {
      "text/plain": [
       "57.738170912224277"
      ]
     },
     "execution_count": 33,
     "metadata": {},
     "output_type": "execute_result"
    }
   ],
   "source": [
    "(balance == 0).sum()/balance.count()*100"
   ]
  },
  {
   "cell_type": "markdown",
   "metadata": {},
   "source": [
    "- The median balance is \\$0\n",
    "- The minimum balance is \\$0\n",
    "- 58% of balances are \\$0 -- have been paid.\n",
    "- 75% of balances are \\$40 or less -- likely only one violation.\n",
    "- The maximum balance is \\$2,199."
   ]
  },
  {
   "cell_type": "code",
   "execution_count": 34,
   "metadata": {},
   "outputs": [
    {
     "data": {
      "text/plain": [
       "count    1.344668e+06\n",
       "mean     2.941512e+01\n",
       "std      4.274848e+01\n",
       "min      0.000000e+00\n",
       "25%      0.000000e+00\n",
       "50%      3.200000e+01\n",
       "75%      4.000000e+01\n",
       "max      5.020000e+02\n",
       "Name: OpenFine, dtype: float64"
      ]
     },
     "execution_count": 34,
     "metadata": {},
     "output_type": "execute_result"
    }
   ],
   "source": [
    "open_fine.describe()"
   ]
  },
  {
   "cell_type": "code",
   "execution_count": 35,
   "metadata": {},
   "outputs": [
    {
     "data": {
      "text/plain": [
       "39.394036297435505"
      ]
     },
     "execution_count": 35,
     "metadata": {},
     "output_type": "execute_result"
    }
   ],
   "source": [
    "(open_fine == 0).sum()/open_fine.count()*100"
   ]
  },
  {
   "cell_type": "markdown",
   "metadata": {},
   "source": [
    "- The median open fine is \\$32 -- this is the same as the median fine, further suggesting most accounts have only one violation.\n",
    "- The maximum open fine is \\$502 -- this is the same as the maximum fine, suggesting the account with the maximum fine had only one violation.\n",
    "- The minimum open fine is \\$0 -- this is the same as the minimum balance, not surprising. \n",
    "- 39% of open fines are \\$0 -- have been paid. \n",
    "- 75% of open fines fall at or below \\$40."
   ]
  },
  {
   "cell_type": "code",
   "execution_count": 36,
   "metadata": {},
   "outputs": [
    {
     "data": {
      "text/plain": [
       "count    1.344668e+06\n",
       "mean     4.398455e+01\n",
       "std      1.254209e+02\n",
       "min      0.000000e+00\n",
       "25%      0.000000e+00\n",
       "50%      0.000000e+00\n",
       "75%      0.000000e+00\n",
       "max      3.120000e+03\n",
       "Name: OpenPenalty, dtype: float64"
      ]
     },
     "execution_count": 36,
     "metadata": {},
     "output_type": "execute_result"
    }
   ],
   "source": [
    "open_penalty.describe()"
   ]
  },
  {
   "cell_type": "code",
   "execution_count": 37,
   "metadata": {},
   "outputs": [
    {
     "data": {
      "text/plain": [
       "84.617764384963422"
      ]
     },
     "execution_count": 37,
     "metadata": {},
     "output_type": "execute_result"
    }
   ],
   "source": [
    "(open_penalty == 0).sum()/open_penalty.count()*100"
   ]
  },
  {
   "cell_type": "markdown",
   "metadata": {},
   "source": [
    "- 84% of open penalties are \\$0 -- suggesting most accounts either paid on time or have already paid off their penalties\n",
    "- The maximum open penalty is \\$3,120. "
   ]
  },
  {
   "cell_type": "markdown",
   "metadata": {},
   "source": [
    "# Now, let's look at the Geographical Data: police district, council district, neighborhood, address, and location"
   ]
  },
  {
   "cell_type": "code",
   "execution_count": 38,
   "metadata": {},
   "outputs": [
    {
     "data": {
      "text/plain": [
       "count           206670\n",
       "unique              18\n",
       "top       Southeastern\n",
       "freq             34563\n",
       "Name: PoliceDistrict, dtype: object"
      ]
     },
     "execution_count": 38,
     "metadata": {},
     "output_type": "execute_result"
    }
   ],
   "source": [
    "police_district.describe()"
   ]
  },
  {
   "cell_type": "code",
   "execution_count": 39,
   "metadata": {},
   "outputs": [
    {
     "data": {
      "text/plain": [
       "array([nan, 'Southwestern', 'Western', 'Southeastern', 'Northwestern',\n",
       "       'Northern', 'Southern', 'Central', 'Notheastern', 'Eastern',\n",
       "       'NORTHERN', 'SOUTHEASTERN', 'WESTERN', 'NORTHEASTERN', 'SOUTHERN',\n",
       "       'NORTHWESTERN', 'EASTERN', 'SOUTHWESTERN', 'CENTRAL'], dtype=object)"
      ]
     },
     "execution_count": 39,
     "metadata": {},
     "output_type": "execute_result"
    }
   ],
   "source": [
    "police_district.unique()"
   ]
  },
  {
   "cell_type": "markdown",
   "metadata": {},
   "source": [
    "Need to recalculate the stats after compressing and summing the similar districts."
   ]
  },
  {
   "cell_type": "code",
   "execution_count": 40,
   "metadata": {},
   "outputs": [
    {
     "data": {
      "text/plain": [
       "count    206691.000000\n",
       "mean          8.353121\n",
       "std           4.376684\n",
       "min           1.000000\n",
       "25%           5.000000\n",
       "50%          11.000000\n",
       "75%          11.000000\n",
       "max          14.000000\n",
       "Name: CouncilDistrict, dtype: float64"
      ]
     },
     "execution_count": 40,
     "metadata": {},
     "output_type": "execute_result"
    }
   ],
   "source": [
    "council_district.describe()"
   ]
  },
  {
   "cell_type": "markdown",
   "metadata": {},
   "source": [
    "This is nonsensical...lets try again after converting to a categorical'"
   ]
  },
  {
   "cell_type": "code",
   "execution_count": 41,
   "metadata": {},
   "outputs": [
    {
     "data": {
      "text/plain": [
       "array([ nan,   8.,   9.,   1.,   7.,  12.,  10.,  11.,  13.,   4.,   3.,\n",
       "         6.,  14.,   5.,   2.])"
      ]
     },
     "execution_count": 41,
     "metadata": {},
     "output_type": "execute_result"
    }
   ],
   "source": [
    "council_district.unique()"
   ]
  },
  {
   "cell_type": "code",
   "execution_count": 42,
   "metadata": {},
   "outputs": [
    {
     "data": {
      "text/plain": [
       "count           206670\n",
       "unique             498\n",
       "top       Federal Hill\n",
       "freq             13526\n",
       "Name: Neighborhood, dtype: object"
      ]
     },
     "execution_count": 42,
     "metadata": {},
     "output_type": "execute_result"
    }
   ],
   "source": [
    "neighborhood.describe()"
   ]
  },
  {
   "cell_type": "code",
   "execution_count": 43,
   "metadata": {},
   "outputs": [
    {
     "data": {
      "text/plain": [
       "count                            1345051\n",
       "unique                             65862\n",
       "top       2600 BLOCK OF GWYNNS FALLS PKW\n",
       "freq                               11234\n",
       "Name: Address, dtype: object"
      ]
     },
     "execution_count": 43,
     "metadata": {},
     "output_type": "execute_result"
    }
   ],
   "source": [
    "address.describe()"
   ]
  },
  {
   "cell_type": "code",
   "execution_count": 44,
   "metadata": {},
   "outputs": [
    {
     "data": {
      "text/plain": [
       "count                                               1323450\n",
       "unique                                                59521\n",
       "top       2600 BLOCK OF GWYNNS FALLS\\nPKW Baltimore, MD\\...\n",
       "freq                                                  11234\n",
       "Name: Location, dtype: object"
      ]
     },
     "execution_count": 44,
     "metadata": {},
     "output_type": "execute_result"
    }
   ],
   "source": [
    "location.describe()"
   ]
  },
  {
   "cell_type": "code",
   "execution_count": null,
   "metadata": {
    "collapsed": true
   },
   "outputs": [],
   "source": []
  },
  {
   "cell_type": "code",
   "execution_count": null,
   "metadata": {
    "collapsed": true
   },
   "outputs": [],
   "source": []
  },
  {
   "cell_type": "markdown",
   "metadata": {},
   "source": [
    "# Other stuff for later"
   ]
  },
  {
   "cell_type": "code",
   "execution_count": null,
   "metadata": {},
   "outputs": [],
   "source": [
    "# Print the rows where the ViolationFine is not a string\n",
    "df[df['ViolFine'].apply(type) != str].head()"
   ]
  },
  {
   "cell_type": "code",
   "execution_count": null,
   "metadata": {
    "scrolled": true
   },
   "outputs": [],
   "source": [
    "# Explore the meaning of Open Fine, Open Penalty, and their relation to multiple citations for a single License '4AB9753'\n",
    "df[df['Tag'] == '4AB9753']"
   ]
  },
  {
   "cell_type": "markdown",
   "metadata": {},
   "source": []
  }
 ],
 "metadata": {
  "kernelspec": {
   "display_name": "Python 3",
   "language": "python",
   "name": "python3"
  },
  "language_info": {
   "codemirror_mode": {
    "name": "ipython",
    "version": 3
   },
   "file_extension": ".py",
   "mimetype": "text/x-python",
   "name": "python",
   "nbconvert_exporter": "python",
   "pygments_lexer": "ipython3",
   "version": "3.6.1"
  }
 },
 "nbformat": 4,
 "nbformat_minor": 2
}
